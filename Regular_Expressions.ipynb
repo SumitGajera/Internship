{
  "nbformat": 4,
  "nbformat_minor": 0,
  "metadata": {
    "colab": {
      "provenance": []
    },
    "kernelspec": {
      "name": "python3",
      "display_name": "Python 3"
    },
    "language_info": {
      "name": "python"
    }
  },
  "cells": [
    {
      "cell_type": "markdown",
      "source": [
        "## 1. Write a Python program to replace all occurrences of a space, comma, or dot with a colon."
      ],
      "metadata": {
        "id": "Bj2NgE03cCYg"
      }
    },
    {
      "cell_type": "code",
      "source": [
        "import re\n",
        "string_text = 'Python Exercises, PHP exercises.'\n",
        "print(re.sub(\"[ ,.]\", \":\", string_text))\n"
      ],
      "metadata": {
        "colab": {
          "base_uri": "https://localhost:8080/"
        },
        "id": "9zkpLvWwcKMf",
        "outputId": "0cc04f0e-6339-44f9-a3f0-cf9045649c52"
      },
      "execution_count": null,
      "outputs": [
        {
          "output_type": "stream",
          "name": "stdout",
          "text": [
            "Python:Exercises::PHP:exercises:\n"
          ]
        }
      ]
    },
    {
      "cell_type": "markdown",
      "source": [
        "## 2-  Create a dataframe using the dictionary below and remove everything (commas (,), !, XXXX, ;, etc.) from the columns except words."
      ],
      "metadata": {
        "id": "CueQH6Hhc5bB"
      }
    },
    {
      "cell_type": "code",
      "source": [
        "import pandas as pd\n",
        "\n",
        "data = {'SUMMARY' : ['hello, world!', 'XXXXX test', '123four, five:; six...']}\n",
        "\n",
        "df = pd.DataFrame(data)\n",
        "\n",
        "df['SUMMARY'] = df['SUMMARY'].str.replace('[^a-zA-Z\\s]', '', regex=True)\n",
        "\n",
        "print(df)\n",
        "\n",
        "\n"
      ],
      "metadata": {
        "colab": {
          "base_uri": "https://localhost:8080/"
        },
        "id": "zw44BPb7c-5O",
        "outputId": "867aa8b0-9c80-4a7e-cd37-9c398ab8634e"
      },
      "execution_count": null,
      "outputs": [
        {
          "output_type": "stream",
          "name": "stdout",
          "text": [
            "         SUMMARY\n",
            "0    hello world\n",
            "1     XXXXX test\n",
            "2  four five six\n"
          ]
        }
      ]
    },
    {
      "cell_type": "markdown",
      "source": [
        "## Question 3- Create a function in python to find all words that are at least 4 characters long in a string. The use of the re.compile() method is mandatory."
      ],
      "metadata": {
        "id": "GRRKCYoreaFz"
      }
    },
    {
      "cell_type": "code",
      "source": [
        "import re\n",
        "def find_words(string):\n",
        "  pattern = re.compile(r\"\\b\\w{4,}\\b\")\n",
        "  matches = pattern.findall(string)\n",
        "  return matches\n",
        "\n",
        "string = \"This is a Data Science program traning class work with function regex.\"\n",
        "result = find_words(string)\n",
        "\n",
        "print(result)\n",
        "\n"
      ],
      "metadata": {
        "colab": {
          "base_uri": "https://localhost:8080/"
        },
        "id": "ryjmIyfQedS5",
        "outputId": "8118ef4a-779c-4dae-a98f-868d6d91a93a"
      },
      "execution_count": null,
      "outputs": [
        {
          "output_type": "stream",
          "name": "stdout",
          "text": [
            "['This', 'Data', 'Science', 'program', 'traning', 'class', 'work', 'with', 'function', 'regex']\n"
          ]
        }
      ]
    },
    {
      "cell_type": "markdown",
      "source": [
        "## Question 4- Create a function in python to find all three, four, and five character words in a string. The use of the re.compile() method is mandatory."
      ],
      "metadata": {
        "id": "JtpB8C-MhX4Q"
      }
    },
    {
      "cell_type": "code",
      "source": [
        "import re\n",
        "def find_words(string):\n",
        "  pattern = re.compile(r\"\\b\\w{3,5}\\b\")\n",
        "  matches = pattern.findall(string)\n",
        "  return matches\n",
        "\n",
        "string = \"This is a Data Science program traning class work with function regex.\"\n",
        "result = find_words(string)\n",
        "\n",
        "print(result)"
      ],
      "metadata": {
        "colab": {
          "base_uri": "https://localhost:8080/"
        },
        "id": "YoT6SlHAgaBm",
        "outputId": "03f1e979-4caf-4e07-f222-517157775c6f"
      },
      "execution_count": null,
      "outputs": [
        {
          "output_type": "stream",
          "name": "stdout",
          "text": [
            "['This', 'Data', 'class', 'work', 'with', 'regex']\n"
          ]
        }
      ]
    },
    {
      "cell_type": "markdown",
      "source": [
        "## Question 5- Create a function in Python to remove the parenthesis in a list of strings. The use of the re.compile() method is mandatory."
      ],
      "metadata": {
        "id": "VL7sHuOHhPYn"
      }
    },
    {
      "cell_type": "code",
      "source": [
        "import re\n",
        "\n",
        "items = [\"example (.com)\", \"hr@fliprobo (.com)\", \"github (.com)\", \"Hello (Data Science World)\", \"Data (Scientist)\"]\n",
        "for item in items:\n",
        "    pattern = re.compile(r'[()]')\n",
        "\n",
        "    print(re.sub(pattern, \"\", item))"
      ],
      "metadata": {
        "colab": {
          "base_uri": "https://localhost:8080/"
        },
        "id": "1VTtLVJChbr-",
        "outputId": "594f40aa-7688-400c-ee46-c0ed0e6cab3b"
      },
      "execution_count": null,
      "outputs": [
        {
          "output_type": "stream",
          "name": "stdout",
          "text": [
            "example .com\n",
            "hr@fliprobo .com\n",
            "github .com\n",
            "Hello Data Science World\n",
            "Data Scientist\n"
          ]
        }
      ]
    },
    {
      "cell_type": "markdown",
      "source": [
        "## Question 6- Write a python program to remove the parenthesis area from the text stored in the text file using Regular Expression."
      ],
      "metadata": {
        "id": "oZMy5B0rmDj2"
      }
    },
    {
      "cell_type": "code",
      "source": [
        "import re\n",
        "\n",
        "items = [\"example (.com)\", \"hr@fliprobo (.com)\", \"github (.com)\", \"Hello (Data Science World)\", \"Data (Scientist)\"]\n",
        "for item in items:\n",
        "    pattern = re.compile(r\"\\s*\\([^)]*\\)\")\n",
        "\n",
        "    print(re.sub(pattern, \"\", item))"
      ],
      "metadata": {
        "colab": {
          "base_uri": "https://localhost:8080/"
        },
        "id": "rOMSUoL0mGLC",
        "outputId": "23d4f3d2-f425-40ef-b810-fde2d38f6a0b"
      },
      "execution_count": null,
      "outputs": [
        {
          "output_type": "stream",
          "name": "stdout",
          "text": [
            "example\n",
            "hr@fliprobo\n",
            "github\n",
            "Hello\n",
            "Data\n"
          ]
        }
      ]
    },
    {
      "cell_type": "markdown",
      "source": [
        "## Question 7- Write a regular expression in Python to split a string into uppercase letters."
      ],
      "metadata": {
        "id": "jv1Q8S4Pm7ex"
      }
    },
    {
      "cell_type": "code",
      "source": [
        "text= \"ImportanceOfRegularExpressionsInPython\"\n",
        "\n",
        "print(re.findall('[A-Z][^A-Z]*', text))\n"
      ],
      "metadata": {
        "colab": {
          "base_uri": "https://localhost:8080/"
        },
        "id": "CrfZEi5Im9RZ",
        "outputId": "95f2d0e5-ea73-4c08-8f29-35593f883887"
      },
      "execution_count": null,
      "outputs": [
        {
          "output_type": "stream",
          "name": "stdout",
          "text": [
            "['Importance', 'Of', 'Regular', 'Expressions', 'In', 'Python']\n"
          ]
        }
      ]
    },
    {
      "cell_type": "markdown",
      "source": [
        "## Question 8- Create a function in python to insert spaces between words starting with numbers.\n",
        "\n"
      ],
      "metadata": {
        "id": "Qj6MH83XnQc0"
      }
    },
    {
      "cell_type": "code",
      "source": [
        "items = \"RegularExpression1IsAn2ImportantTopic3InPython\"\n",
        "\n",
        "pattern = re.compile(r'(\\d+)([A-Za-z]+)')\n",
        "\n",
        "print(re.sub(pattern, r' \\1\\2', items))\n"
      ],
      "metadata": {
        "colab": {
          "base_uri": "https://localhost:8080/"
        },
        "id": "xtlJesrEnSLn",
        "outputId": "cdce15f9-e062-48a9-e2f2-618e5f2d2003"
      },
      "execution_count": null,
      "outputs": [
        {
          "output_type": "stream",
          "name": "stdout",
          "text": [
            "RegularExpression 1IsAn 2ImportantTopic 3InPython\n"
          ]
        }
      ]
    },
    {
      "cell_type": "markdown",
      "source": [
        "## Question 9- Create a function in python to insert spaces between words starting with capital letters or with numbers."
      ],
      "metadata": {
        "id": "Pk-ouqiEo_w_"
      }
    },
    {
      "cell_type": "code",
      "source": [
        "items = \"RegularExpression1IsAn2ImportantTopic3InPython\"\n",
        "\n",
        "pattern = re.compile(r'(\\d+)([A-Za-z]+)')\n",
        "\n",
        "print(re.sub(pattern, r' \\1 \\2', items))"
      ],
      "metadata": {
        "colab": {
          "base_uri": "https://localhost:8080/"
        },
        "id": "PtCRMRpJpBc_",
        "outputId": "959b5438-d15c-491d-f0b8-12a08b4aa3c6"
      },
      "execution_count": null,
      "outputs": [
        {
          "output_type": "stream",
          "name": "stdout",
          "text": [
            "RegularExpression 1 IsAn 2 ImportantTopic 3 InPython\n"
          ]
        }
      ]
    },
    {
      "cell_type": "markdown",
      "source": [
        "## Question 10- Use the github link below to read the data and create a dataframe. After creating the dataframe extract the first 6 letters of each country and store in the dataframe under a new column called first_five_letters."
      ],
      "metadata": {
        "id": "t87YS5EHAOI4"
      }
    },
    {
      "cell_type": "code",
      "source": [
        "import pandas as pd\n",
        "\n",
        "url  = \"https://raw.githubusercontent.com/dsrscientist/DSData/master/happiness_score_dataset.csv\"\n",
        "df = pd.read_csv(url)\n",
        "\n",
        "\n",
        "df['first_five_letters'] = df['Country'].apply(lambda x: x[:6])\n",
        "df.head()\n",
        "\n"
      ],
      "metadata": {
        "colab": {
          "base_uri": "https://localhost:8080/",
          "height": 310
        },
        "id": "8sUqI3P_AM0C",
        "outputId": "7cff5932-5781-43a7-8dbe-c08365e10653"
      },
      "execution_count": null,
      "outputs": [
        {
          "output_type": "execute_result",
          "data": {
            "text/plain": [
              "       Country          Region  Happiness Rank  Happiness Score  \\\n",
              "0  Switzerland  Western Europe               1            7.587   \n",
              "1      Iceland  Western Europe               2            7.561   \n",
              "2      Denmark  Western Europe               3            7.527   \n",
              "3       Norway  Western Europe               4            7.522   \n",
              "4       Canada   North America               5            7.427   \n",
              "\n",
              "   Standard Error  Economy (GDP per Capita)   Family  \\\n",
              "0         0.03411                   1.39651  1.34951   \n",
              "1         0.04884                   1.30232  1.40223   \n",
              "2         0.03328                   1.32548  1.36058   \n",
              "3         0.03880                   1.45900  1.33095   \n",
              "4         0.03553                   1.32629  1.32261   \n",
              "\n",
              "   Health (Life Expectancy)  Freedom  Trust (Government Corruption)  \\\n",
              "0                   0.94143  0.66557                        0.41978   \n",
              "1                   0.94784  0.62877                        0.14145   \n",
              "2                   0.87464  0.64938                        0.48357   \n",
              "3                   0.88521  0.66973                        0.36503   \n",
              "4                   0.90563  0.63297                        0.32957   \n",
              "\n",
              "   Generosity  Dystopia Residual first_five_letters  \n",
              "0     0.29678            2.51738             Switze  \n",
              "1     0.43630            2.70201             Icelan  \n",
              "2     0.34139            2.49204             Denmar  \n",
              "3     0.34699            2.46531             Norway  \n",
              "4     0.45811            2.45176             Canada  "
            ],
            "text/html": [
              "\n",
              "  <div id=\"df-234a8168-62f6-45f4-8c75-6b1f6473722d\" class=\"colab-df-container\">\n",
              "    <div>\n",
              "<style scoped>\n",
              "    .dataframe tbody tr th:only-of-type {\n",
              "        vertical-align: middle;\n",
              "    }\n",
              "\n",
              "    .dataframe tbody tr th {\n",
              "        vertical-align: top;\n",
              "    }\n",
              "\n",
              "    .dataframe thead th {\n",
              "        text-align: right;\n",
              "    }\n",
              "</style>\n",
              "<table border=\"1\" class=\"dataframe\">\n",
              "  <thead>\n",
              "    <tr style=\"text-align: right;\">\n",
              "      <th></th>\n",
              "      <th>Country</th>\n",
              "      <th>Region</th>\n",
              "      <th>Happiness Rank</th>\n",
              "      <th>Happiness Score</th>\n",
              "      <th>Standard Error</th>\n",
              "      <th>Economy (GDP per Capita)</th>\n",
              "      <th>Family</th>\n",
              "      <th>Health (Life Expectancy)</th>\n",
              "      <th>Freedom</th>\n",
              "      <th>Trust (Government Corruption)</th>\n",
              "      <th>Generosity</th>\n",
              "      <th>Dystopia Residual</th>\n",
              "      <th>first_five_letters</th>\n",
              "    </tr>\n",
              "  </thead>\n",
              "  <tbody>\n",
              "    <tr>\n",
              "      <th>0</th>\n",
              "      <td>Switzerland</td>\n",
              "      <td>Western Europe</td>\n",
              "      <td>1</td>\n",
              "      <td>7.587</td>\n",
              "      <td>0.03411</td>\n",
              "      <td>1.39651</td>\n",
              "      <td>1.34951</td>\n",
              "      <td>0.94143</td>\n",
              "      <td>0.66557</td>\n",
              "      <td>0.41978</td>\n",
              "      <td>0.29678</td>\n",
              "      <td>2.51738</td>\n",
              "      <td>Switze</td>\n",
              "    </tr>\n",
              "    <tr>\n",
              "      <th>1</th>\n",
              "      <td>Iceland</td>\n",
              "      <td>Western Europe</td>\n",
              "      <td>2</td>\n",
              "      <td>7.561</td>\n",
              "      <td>0.04884</td>\n",
              "      <td>1.30232</td>\n",
              "      <td>1.40223</td>\n",
              "      <td>0.94784</td>\n",
              "      <td>0.62877</td>\n",
              "      <td>0.14145</td>\n",
              "      <td>0.43630</td>\n",
              "      <td>2.70201</td>\n",
              "      <td>Icelan</td>\n",
              "    </tr>\n",
              "    <tr>\n",
              "      <th>2</th>\n",
              "      <td>Denmark</td>\n",
              "      <td>Western Europe</td>\n",
              "      <td>3</td>\n",
              "      <td>7.527</td>\n",
              "      <td>0.03328</td>\n",
              "      <td>1.32548</td>\n",
              "      <td>1.36058</td>\n",
              "      <td>0.87464</td>\n",
              "      <td>0.64938</td>\n",
              "      <td>0.48357</td>\n",
              "      <td>0.34139</td>\n",
              "      <td>2.49204</td>\n",
              "      <td>Denmar</td>\n",
              "    </tr>\n",
              "    <tr>\n",
              "      <th>3</th>\n",
              "      <td>Norway</td>\n",
              "      <td>Western Europe</td>\n",
              "      <td>4</td>\n",
              "      <td>7.522</td>\n",
              "      <td>0.03880</td>\n",
              "      <td>1.45900</td>\n",
              "      <td>1.33095</td>\n",
              "      <td>0.88521</td>\n",
              "      <td>0.66973</td>\n",
              "      <td>0.36503</td>\n",
              "      <td>0.34699</td>\n",
              "      <td>2.46531</td>\n",
              "      <td>Norway</td>\n",
              "    </tr>\n",
              "    <tr>\n",
              "      <th>4</th>\n",
              "      <td>Canada</td>\n",
              "      <td>North America</td>\n",
              "      <td>5</td>\n",
              "      <td>7.427</td>\n",
              "      <td>0.03553</td>\n",
              "      <td>1.32629</td>\n",
              "      <td>1.32261</td>\n",
              "      <td>0.90563</td>\n",
              "      <td>0.63297</td>\n",
              "      <td>0.32957</td>\n",
              "      <td>0.45811</td>\n",
              "      <td>2.45176</td>\n",
              "      <td>Canada</td>\n",
              "    </tr>\n",
              "  </tbody>\n",
              "</table>\n",
              "</div>\n",
              "    <div class=\"colab-df-buttons\">\n",
              "\n",
              "  <div class=\"colab-df-container\">\n",
              "    <button class=\"colab-df-convert\" onclick=\"convertToInteractive('df-234a8168-62f6-45f4-8c75-6b1f6473722d')\"\n",
              "            title=\"Convert this dataframe to an interactive table.\"\n",
              "            style=\"display:none;\">\n",
              "\n",
              "  <svg xmlns=\"http://www.w3.org/2000/svg\" height=\"24px\" viewBox=\"0 -960 960 960\">\n",
              "    <path d=\"M120-120v-720h720v720H120Zm60-500h600v-160H180v160Zm220 220h160v-160H400v160Zm0 220h160v-160H400v160ZM180-400h160v-160H180v160Zm440 0h160v-160H620v160ZM180-180h160v-160H180v160Zm440 0h160v-160H620v160Z\"/>\n",
              "  </svg>\n",
              "    </button>\n",
              "\n",
              "  <style>\n",
              "    .colab-df-container {\n",
              "      display:flex;\n",
              "      gap: 12px;\n",
              "    }\n",
              "\n",
              "    .colab-df-convert {\n",
              "      background-color: #E8F0FE;\n",
              "      border: none;\n",
              "      border-radius: 50%;\n",
              "      cursor: pointer;\n",
              "      display: none;\n",
              "      fill: #1967D2;\n",
              "      height: 32px;\n",
              "      padding: 0 0 0 0;\n",
              "      width: 32px;\n",
              "    }\n",
              "\n",
              "    .colab-df-convert:hover {\n",
              "      background-color: #E2EBFA;\n",
              "      box-shadow: 0px 1px 2px rgba(60, 64, 67, 0.3), 0px 1px 3px 1px rgba(60, 64, 67, 0.15);\n",
              "      fill: #174EA6;\n",
              "    }\n",
              "\n",
              "    .colab-df-buttons div {\n",
              "      margin-bottom: 4px;\n",
              "    }\n",
              "\n",
              "    [theme=dark] .colab-df-convert {\n",
              "      background-color: #3B4455;\n",
              "      fill: #D2E3FC;\n",
              "    }\n",
              "\n",
              "    [theme=dark] .colab-df-convert:hover {\n",
              "      background-color: #434B5C;\n",
              "      box-shadow: 0px 1px 3px 1px rgba(0, 0, 0, 0.15);\n",
              "      filter: drop-shadow(0px 1px 2px rgba(0, 0, 0, 0.3));\n",
              "      fill: #FFFFFF;\n",
              "    }\n",
              "  </style>\n",
              "\n",
              "    <script>\n",
              "      const buttonEl =\n",
              "        document.querySelector('#df-234a8168-62f6-45f4-8c75-6b1f6473722d button.colab-df-convert');\n",
              "      buttonEl.style.display =\n",
              "        google.colab.kernel.accessAllowed ? 'block' : 'none';\n",
              "\n",
              "      async function convertToInteractive(key) {\n",
              "        const element = document.querySelector('#df-234a8168-62f6-45f4-8c75-6b1f6473722d');\n",
              "        const dataTable =\n",
              "          await google.colab.kernel.invokeFunction('convertToInteractive',\n",
              "                                                    [key], {});\n",
              "        if (!dataTable) return;\n",
              "\n",
              "        const docLinkHtml = 'Like what you see? Visit the ' +\n",
              "          '<a target=\"_blank\" href=https://colab.research.google.com/notebooks/data_table.ipynb>data table notebook</a>'\n",
              "          + ' to learn more about interactive tables.';\n",
              "        element.innerHTML = '';\n",
              "        dataTable['output_type'] = 'display_data';\n",
              "        await google.colab.output.renderOutput(dataTable, element);\n",
              "        const docLink = document.createElement('div');\n",
              "        docLink.innerHTML = docLinkHtml;\n",
              "        element.appendChild(docLink);\n",
              "      }\n",
              "    </script>\n",
              "  </div>\n",
              "\n",
              "\n",
              "<div id=\"df-432996ca-5635-4888-9ad0-72776c300398\">\n",
              "  <button class=\"colab-df-quickchart\" onclick=\"quickchart('df-432996ca-5635-4888-9ad0-72776c300398')\"\n",
              "            title=\"Suggest charts\"\n",
              "            style=\"display:none;\">\n",
              "\n",
              "<svg xmlns=\"http://www.w3.org/2000/svg\" height=\"24px\"viewBox=\"0 0 24 24\"\n",
              "     width=\"24px\">\n",
              "    <g>\n",
              "        <path d=\"M19 3H5c-1.1 0-2 .9-2 2v14c0 1.1.9 2 2 2h14c1.1 0 2-.9 2-2V5c0-1.1-.9-2-2-2zM9 17H7v-7h2v7zm4 0h-2V7h2v10zm4 0h-2v-4h2v4z\"/>\n",
              "    </g>\n",
              "</svg>\n",
              "  </button>\n",
              "\n",
              "<style>\n",
              "  .colab-df-quickchart {\n",
              "      --bg-color: #E8F0FE;\n",
              "      --fill-color: #1967D2;\n",
              "      --hover-bg-color: #E2EBFA;\n",
              "      --hover-fill-color: #174EA6;\n",
              "      --disabled-fill-color: #AAA;\n",
              "      --disabled-bg-color: #DDD;\n",
              "  }\n",
              "\n",
              "  [theme=dark] .colab-df-quickchart {\n",
              "      --bg-color: #3B4455;\n",
              "      --fill-color: #D2E3FC;\n",
              "      --hover-bg-color: #434B5C;\n",
              "      --hover-fill-color: #FFFFFF;\n",
              "      --disabled-bg-color: #3B4455;\n",
              "      --disabled-fill-color: #666;\n",
              "  }\n",
              "\n",
              "  .colab-df-quickchart {\n",
              "    background-color: var(--bg-color);\n",
              "    border: none;\n",
              "    border-radius: 50%;\n",
              "    cursor: pointer;\n",
              "    display: none;\n",
              "    fill: var(--fill-color);\n",
              "    height: 32px;\n",
              "    padding: 0;\n",
              "    width: 32px;\n",
              "  }\n",
              "\n",
              "  .colab-df-quickchart:hover {\n",
              "    background-color: var(--hover-bg-color);\n",
              "    box-shadow: 0 1px 2px rgba(60, 64, 67, 0.3), 0 1px 3px 1px rgba(60, 64, 67, 0.15);\n",
              "    fill: var(--button-hover-fill-color);\n",
              "  }\n",
              "\n",
              "  .colab-df-quickchart-complete:disabled,\n",
              "  .colab-df-quickchart-complete:disabled:hover {\n",
              "    background-color: var(--disabled-bg-color);\n",
              "    fill: var(--disabled-fill-color);\n",
              "    box-shadow: none;\n",
              "  }\n",
              "\n",
              "  .colab-df-spinner {\n",
              "    border: 2px solid var(--fill-color);\n",
              "    border-color: transparent;\n",
              "    border-bottom-color: var(--fill-color);\n",
              "    animation:\n",
              "      spin 1s steps(1) infinite;\n",
              "  }\n",
              "\n",
              "  @keyframes spin {\n",
              "    0% {\n",
              "      border-color: transparent;\n",
              "      border-bottom-color: var(--fill-color);\n",
              "      border-left-color: var(--fill-color);\n",
              "    }\n",
              "    20% {\n",
              "      border-color: transparent;\n",
              "      border-left-color: var(--fill-color);\n",
              "      border-top-color: var(--fill-color);\n",
              "    }\n",
              "    30% {\n",
              "      border-color: transparent;\n",
              "      border-left-color: var(--fill-color);\n",
              "      border-top-color: var(--fill-color);\n",
              "      border-right-color: var(--fill-color);\n",
              "    }\n",
              "    40% {\n",
              "      border-color: transparent;\n",
              "      border-right-color: var(--fill-color);\n",
              "      border-top-color: var(--fill-color);\n",
              "    }\n",
              "    60% {\n",
              "      border-color: transparent;\n",
              "      border-right-color: var(--fill-color);\n",
              "    }\n",
              "    80% {\n",
              "      border-color: transparent;\n",
              "      border-right-color: var(--fill-color);\n",
              "      border-bottom-color: var(--fill-color);\n",
              "    }\n",
              "    90% {\n",
              "      border-color: transparent;\n",
              "      border-bottom-color: var(--fill-color);\n",
              "    }\n",
              "  }\n",
              "</style>\n",
              "\n",
              "  <script>\n",
              "    async function quickchart(key) {\n",
              "      const quickchartButtonEl =\n",
              "        document.querySelector('#' + key + ' button');\n",
              "      quickchartButtonEl.disabled = true;  // To prevent multiple clicks.\n",
              "      quickchartButtonEl.classList.add('colab-df-spinner');\n",
              "      try {\n",
              "        const charts = await google.colab.kernel.invokeFunction(\n",
              "            'suggestCharts', [key], {});\n",
              "      } catch (error) {\n",
              "        console.error('Error during call to suggestCharts:', error);\n",
              "      }\n",
              "      quickchartButtonEl.classList.remove('colab-df-spinner');\n",
              "      quickchartButtonEl.classList.add('colab-df-quickchart-complete');\n",
              "    }\n",
              "    (() => {\n",
              "      let quickchartButtonEl =\n",
              "        document.querySelector('#df-432996ca-5635-4888-9ad0-72776c300398 button');\n",
              "      quickchartButtonEl.style.display =\n",
              "        google.colab.kernel.accessAllowed ? 'block' : 'none';\n",
              "    })();\n",
              "  </script>\n",
              "</div>\n",
              "\n",
              "    </div>\n",
              "  </div>\n"
            ],
            "application/vnd.google.colaboratory.intrinsic+json": {
              "type": "dataframe",
              "variable_name": "df",
              "summary": "{\n  \"name\": \"df\",\n  \"rows\": 158,\n  \"fields\": [\n    {\n      \"column\": \"Country\",\n      \"properties\": {\n        \"dtype\": \"string\",\n        \"num_unique_values\": 158,\n        \"samples\": [\n          \"Myanmar\",\n          \"Japan\",\n          \"Egypt\"\n        ],\n        \"semantic_type\": \"\",\n        \"description\": \"\"\n      }\n    },\n    {\n      \"column\": \"Region\",\n      \"properties\": {\n        \"dtype\": \"category\",\n        \"num_unique_values\": 10,\n        \"samples\": [\n          \"Sub-Saharan Africa\",\n          \"North America\",\n          \"Southeastern Asia\"\n        ],\n        \"semantic_type\": \"\",\n        \"description\": \"\"\n      }\n    },\n    {\n      \"column\": \"Happiness Rank\",\n      \"properties\": {\n        \"dtype\": \"number\",\n        \"std\": 45,\n        \"min\": 1,\n        \"max\": 158,\n        \"num_unique_values\": 157,\n        \"samples\": [\n          128,\n          46,\n          135\n        ],\n        \"semantic_type\": \"\",\n        \"description\": \"\"\n      }\n    },\n    {\n      \"column\": \"Happiness Score\",\n      \"properties\": {\n        \"dtype\": \"number\",\n        \"std\": 1.1450101349520665,\n        \"min\": 2.839,\n        \"max\": 7.587,\n        \"num_unique_values\": 157,\n        \"samples\": [\n          4.332,\n          5.987,\n          4.194\n        ],\n        \"semantic_type\": \"\",\n        \"description\": \"\"\n      }\n    },\n    {\n      \"column\": \"Standard Error\",\n      \"properties\": {\n        \"dtype\": \"number\",\n        \"std\": 0.017146178556969306,\n        \"min\": 0.01848,\n        \"max\": 0.13693,\n        \"num_unique_values\": 153,\n        \"samples\": [\n          0.06607,\n          0.04802,\n          0.06698\n        ],\n        \"semantic_type\": \"\",\n        \"description\": \"\"\n      }\n    },\n    {\n      \"column\": \"Economy (GDP per Capita)\",\n      \"properties\": {\n        \"dtype\": \"number\",\n        \"std\": 0.40312077853791,\n        \"min\": 0.0,\n        \"max\": 1.69042,\n        \"num_unique_values\": 158,\n        \"samples\": [\n          0.27108,\n          1.27074,\n          0.8818\n        ],\n        \"semantic_type\": \"\",\n        \"description\": \"\"\n      }\n    },\n    {\n      \"column\": \"Family\",\n      \"properties\": {\n        \"dtype\": \"number\",\n        \"std\": 0.27236908600791543,\n        \"min\": 0.0,\n        \"max\": 1.40223,\n        \"num_unique_values\": 158,\n        \"samples\": [\n          0.70905,\n          1.25712,\n          0.747\n        ],\n        \"semantic_type\": \"\",\n        \"description\": \"\"\n      }\n    },\n    {\n      \"column\": \"Health (Life Expectancy)\",\n      \"properties\": {\n        \"dtype\": \"number\",\n        \"std\": 0.24707776630217207,\n        \"min\": 0.0,\n        \"max\": 1.02525,\n        \"num_unique_values\": 157,\n        \"samples\": [\n          0.04776,\n          0.99111,\n          0.61712\n        ],\n        \"semantic_type\": \"\",\n        \"description\": \"\"\n      }\n    },\n    {\n      \"column\": \"Freedom\",\n      \"properties\": {\n        \"dtype\": \"number\",\n        \"std\": 0.15069278393767793,\n        \"min\": 0.0,\n        \"max\": 0.66973,\n        \"num_unique_values\": 158,\n        \"samples\": [\n          0.44017,\n          0.49615,\n          0.17288\n        ],\n        \"semantic_type\": \"\",\n        \"description\": \"\"\n      }\n    },\n    {\n      \"column\": \"Trust (Government Corruption)\",\n      \"properties\": {\n        \"dtype\": \"number\",\n        \"std\": 0.12003407357455917,\n        \"min\": 0.0,\n        \"max\": 0.55191,\n        \"num_unique_values\": 157,\n        \"samples\": [\n          0.12474,\n          0.07857,\n          0.06324\n        ],\n        \"semantic_type\": \"\",\n        \"description\": \"\"\n      }\n    },\n    {\n      \"column\": \"Generosity\",\n      \"properties\": {\n        \"dtype\": \"number\",\n        \"std\": 0.12668493402020534,\n        \"min\": 0.0,\n        \"max\": 0.79588,\n        \"num_unique_values\": 158,\n        \"samples\": [\n          0.79588,\n          0.10705,\n          0.11291\n        ],\n        \"semantic_type\": \"\",\n        \"description\": \"\"\n      }\n    },\n    {\n      \"column\": \"Dystopia Residual\",\n      \"properties\": {\n        \"dtype\": \"number\",\n        \"std\": 0.5535497923037984,\n        \"min\": 0.32858,\n        \"max\": 3.60214,\n        \"num_unique_values\": 158,\n        \"samples\": [\n          1.41805,\n          1.68435,\n          1.59927\n        ],\n        \"semantic_type\": \"\",\n        \"description\": \"\"\n      }\n    },\n    {\n      \"column\": \"first_five_letters\",\n      \"properties\": {\n        \"dtype\": \"string\",\n        \"num_unique_values\": 153,\n        \"samples\": [\n          \"Serbia\",\n          \"Latvia\",\n          \"Mongol\"\n        ],\n        \"semantic_type\": \"\",\n        \"description\": \"\"\n      }\n    }\n  ]\n}"
            }
          },
          "metadata": {},
          "execution_count": 26
        }
      ]
    },
    {
      "cell_type": "markdown",
      "source": [
        "## Question 11- Write a Python program to match a string that contains only upper and lowercase letters, numbers, and underscores."
      ],
      "metadata": {
        "id": "p5YzcqkaBB9H"
      }
    },
    {
      "cell_type": "code",
      "source": [
        "\n",
        "def text_match(text):\n",
        "        patterns = '^[a-zA-Z0-9_]*$'\n",
        "        if re.search(patterns,  text):\n",
        "                return 'Found a match!'\n",
        "        else:\n",
        "                return('Not matched!')\n",
        "\n",
        "print(text_match(\"This is a Data Science program traning class work with function regex.\"))\n",
        "print(text_match(\"This_is_a_Data_Science_program_traning_class_Python_Exercises_247\"))"
      ],
      "metadata": {
        "colab": {
          "base_uri": "https://localhost:8080/"
        },
        "id": "y6QbB1Y0BDeM",
        "outputId": "11e775f9-0e9d-4f5e-b8a6-67688584c08b"
      },
      "execution_count": null,
      "outputs": [
        {
          "output_type": "stream",
          "name": "stdout",
          "text": [
            "Not matched!\n",
            "Found a match!\n"
          ]
        }
      ]
    },
    {
      "cell_type": "markdown",
      "source": [
        "## Question 12- Write a Python program where a string will start with a specific number."
      ],
      "metadata": {
        "id": "pHN4IuAiCPeS"
      }
    },
    {
      "cell_type": "code",
      "source": [
        "def check_start_number(string,number):\n",
        "  if string.startswith(str(number)):\n",
        "     return True\n",
        "  else:\n",
        "     return False\n",
        "\n",
        "\n",
        "string = \"123456abcmnmsbnv,snv,xdn,vs\"\n",
        "number1 = 123456\n",
        "\n",
        "if check_start_number(string,number1):\n",
        "  print(\"The string starts with the specific number.\")\n",
        "else:\n",
        "  print(\"The string doesnot start with specific number.\")\n"
      ],
      "metadata": {
        "colab": {
          "base_uri": "https://localhost:8080/"
        },
        "id": "lNqyHXveCQ-6",
        "outputId": "e98b288e-18d5-451a-e0f1-e9a0dcc64ea3"
      },
      "execution_count": null,
      "outputs": [
        {
          "output_type": "stream",
          "name": "stdout",
          "text": [
            "The string starts with the specific number.\n"
          ]
        }
      ]
    },
    {
      "cell_type": "markdown",
      "source": [
        "## Question 13- Write a Python program to remove leading zeros from an IP address"
      ],
      "metadata": {
        "id": "v6oVhU5NEUN4"
      }
    },
    {
      "cell_type": "code",
      "source": [
        "ip = \"206.008.0094.00196\"\n",
        "string = re.sub('\\.[0]*', '.', ip)\n",
        "print(string)"
      ],
      "metadata": {
        "colab": {
          "base_uri": "https://localhost:8080/"
        },
        "id": "C9uuenpyEVuu",
        "outputId": "2722f7af-b7d7-4a13-9baa-88e542207205"
      },
      "execution_count": null,
      "outputs": [
        {
          "output_type": "stream",
          "name": "stdout",
          "text": [
            "206.8.94.196\n"
          ]
        }
      ]
    },
    {
      "cell_type": "markdown",
      "source": [
        "## Question 14- Write a regular expression in python to match a date string in the form of Month name followed by day number and year stored in a text file."
      ],
      "metadata": {
        "id": "cwwT28mVEslz"
      }
    },
    {
      "cell_type": "code",
      "source": [
        "item = 'On August 15th 1947 that India was declared independent from British colonialism, and the reins of control were handed over to the leaders of the Country.'\n",
        "\n",
        "pattern = r'\\b[A-Z][a-z]+ \\d{1,2}(?:st|nd|rd|th)? \\d{4}\\b'\n",
        "pattern1 = r'\\d{4}-\\d{2}-\\d{2}'\n",
        "\n",
        "matches = re.findall(pattern, item)\n",
        "print(matches)"
      ],
      "metadata": {
        "colab": {
          "base_uri": "https://localhost:8080/"
        },
        "id": "kZ3wVQAzEuQj",
        "outputId": "4e263974-cecf-413e-e0c9-db16b16950ea"
      },
      "execution_count": null,
      "outputs": [
        {
          "output_type": "stream",
          "name": "stdout",
          "text": [
            "['August 15th 1947']\n"
          ]
        }
      ]
    },
    {
      "cell_type": "markdown",
      "source": [
        "## Question 15- Write a Python program to search some literals strings in a string."
      ],
      "metadata": {
        "id": "YvpWWlWHIWtq"
      }
    },
    {
      "cell_type": "code",
      "source": [
        "\n",
        "text = 'The quick brown fox jumps over the lazy dog.'\n",
        "patterns = [ 'fox', 'dog', 'horse' ]\n",
        "for pattern in patterns:\n",
        "    print('Searching for \"%s\" in \"%s\" ->' % (pattern, text),)\n",
        "    if re.search(pattern,  text):\n",
        "        print('Matched found!')\n",
        "    else:\n",
        "        print('Not matched found!')"
      ],
      "metadata": {
        "colab": {
          "base_uri": "https://localhost:8080/"
        },
        "id": "NQvnGWACIbdb",
        "outputId": "d168c379-8c62-4675-cb2b-1c986c23bdb7"
      },
      "execution_count": null,
      "outputs": [
        {
          "output_type": "stream",
          "name": "stdout",
          "text": [
            "Searching for \"fox\" in \"The quick brown fox jumps over the lazy dog.\" ->\n",
            "Matched found!\n",
            "Searching for \"dog\" in \"The quick brown fox jumps over the lazy dog.\" ->\n",
            "Matched found!\n",
            "Searching for \"horse\" in \"The quick brown fox jumps over the lazy dog.\" ->\n",
            "Not matched found!\n"
          ]
        }
      ]
    },
    {
      "cell_type": "markdown",
      "source": [
        "## Question 16- Write a Python program to search a literals string in a string and also find the location within the original string where the pattern occurs"
      ],
      "metadata": {
        "id": "ErtZOTZ6I5hv"
      }
    },
    {
      "cell_type": "code",
      "source": [
        "text = 'The quick brown fox jumps over the lazy dog.'\n",
        "pattern = 'fox'\n",
        "match = re.search(pattern, text)\n",
        "s1 = match.start()\n",
        "e1 = match.end()\n",
        "print('Found \"%s\" in \"%s\" from %d to %d ' % \\\n",
        " (match.re.pattern, match.string, s1, e1))"
      ],
      "metadata": {
        "colab": {
          "base_uri": "https://localhost:8080/"
        },
        "id": "sQOIYERiI8DH",
        "outputId": "03c46bb6-2344-4ebb-8849-115aa54003fe"
      },
      "execution_count": null,
      "outputs": [
        {
          "output_type": "stream",
          "name": "stdout",
          "text": [
            "Found \"fox\" in \"The quick brown fox jumps over the lazy dog.\" from 16 to 19 \n"
          ]
        }
      ]
    },
    {
      "cell_type": "markdown",
      "source": [
        "## Question 17- Write a Python program to find the substrings within a string."
      ],
      "metadata": {
        "id": "95oEqCjQJZM4"
      }
    },
    {
      "cell_type": "code",
      "source": [
        "text = 'Python exercises, PHP exercises, C# exercises'\n",
        "pattern = 'exercises'\n",
        "for match in re.findall(pattern, text):\n",
        "    print('Found \"%s\"' % match)"
      ],
      "metadata": {
        "colab": {
          "base_uri": "https://localhost:8080/"
        },
        "id": "kxZbW-PaJcRf",
        "outputId": "9708a281-6242-4774-9254-daeae17ae7f2"
      },
      "execution_count": null,
      "outputs": [
        {
          "output_type": "stream",
          "name": "stdout",
          "text": [
            "Found \"exercises\"\n",
            "Found \"exercises\"\n",
            "Found \"exercises\"\n"
          ]
        }
      ]
    },
    {
      "cell_type": "markdown",
      "source": [
        "## Question 18- Write a Python program to find the occurrence and position of the substrings within a string."
      ],
      "metadata": {
        "id": "YN2PogvLJp9_"
      }
    },
    {
      "cell_type": "code",
      "source": [
        "text = 'Python exercises, PHP exercises, C# exercises'\n",
        "pattern = 'exercises'\n",
        "for match in re.finditer(pattern, text):\n",
        "    s = match.start()\n",
        "    e = match.end()\n",
        "    print('Found \"%s\" at %d:%d' % (text[s:e], s, e))"
      ],
      "metadata": {
        "colab": {
          "base_uri": "https://localhost:8080/"
        },
        "id": "qZLmMAtSJstN",
        "outputId": "0ddf1ee9-0a26-4a45-bfce-3894daa9b1ad"
      },
      "execution_count": null,
      "outputs": [
        {
          "output_type": "stream",
          "name": "stdout",
          "text": [
            "Found \"exercises\" at 7:16\n",
            "Found \"exercises\" at 22:31\n",
            "Found \"exercises\" at 36:45\n"
          ]
        }
      ]
    },
    {
      "cell_type": "markdown",
      "source": [
        "## Question 19- Write a Python program to convert a date of yyyy-mm-dd format to dd-mm-yyyy format."
      ],
      "metadata": {
        "id": "2asMerfBJ7Wd"
      }
    },
    {
      "cell_type": "code",
      "source": [
        "def change_date_format(dt):\n",
        "        return re.sub(r'(\\d{4})-(\\d{1,2})-(\\d{1,2})', '\\\\3-\\\\2-\\\\1', dt)\n",
        "dt1 = \"2021-05-20\"\n",
        "print(\"Original date is YYY-MM-DD Format: \",dt1)\n",
        "print(\"New date is DD-MM-YYYY Format: \",change_date_format(dt1))"
      ],
      "metadata": {
        "colab": {
          "base_uri": "https://localhost:8080/"
        },
        "id": "_yY6dONTJ-GU",
        "outputId": "0f0d3df1-9a16-47e5-fe96-0f57bf746896"
      },
      "execution_count": null,
      "outputs": [
        {
          "output_type": "stream",
          "name": "stdout",
          "text": [
            "Original date is YYY-MM-DD Format:  2021-05-20\n",
            "New date is DD-MM-YYYY Format:  20-05-2021\n"
          ]
        }
      ]
    },
    {
      "cell_type": "markdown",
      "source": [
        "## Question 20- Create a function in python to find all decimal numbers with a precision of 1 or 2 in a string. The use of the re.compile() method is mandatory."
      ],
      "metadata": {
        "id": "T9dGuzpKKQVl"
      }
    },
    {
      "cell_type": "code",
      "source": [
        "items = '01.12 0132.123 2.31875 145.8 3.01 27.25 0.25'\n",
        "\n",
        "pattern = re.compile(r'\\d+\\.\\d{1,2}')\n",
        "\n",
        "print(re.findall(pattern, items))\n"
      ],
      "metadata": {
        "colab": {
          "base_uri": "https://localhost:8080/"
        },
        "id": "_FVmhPNTKSt6",
        "outputId": "76c0f092-0063-410c-a020-2ea2614046cc"
      },
      "execution_count": null,
      "outputs": [
        {
          "output_type": "stream",
          "name": "stdout",
          "text": [
            "['01.12', '0132.12', '2.31', '145.8', '3.01', '27.25', '0.25']\n"
          ]
        }
      ]
    },
    {
      "cell_type": "markdown",
      "source": [
        "## Question 21- Write a Python program to separate and print the numbers and their position of a given string."
      ],
      "metadata": {
        "id": "U-WH1r3fOvtb"
      }
    },
    {
      "cell_type": "code",
      "source": [
        "text = \"On August 15th 1947 that India was declared independent from British colonialism 247, and the reins of control were handed over to the leaders of the Country.\"\n",
        "\n",
        "for m in re.finditer(\"\\d+\", text):\n",
        "    print(m.group(0))\n",
        "    print(\"Index position:\", m.start())\n"
      ],
      "metadata": {
        "colab": {
          "base_uri": "https://localhost:8080/"
        },
        "id": "fAxIcObHOxFh",
        "outputId": "0a54cfa7-cf8d-4515-a125-006368e1b230"
      },
      "execution_count": null,
      "outputs": [
        {
          "output_type": "stream",
          "name": "stdout",
          "text": [
            "15\n",
            "Index position: 10\n",
            "1947\n",
            "Index position: 15\n",
            "247\n",
            "Index position: 81\n"
          ]
        }
      ]
    },
    {
      "cell_type": "markdown",
      "source": [
        "## Question 22- Write a regular expression in python program to extract maximum/largest numeric value from a string."
      ],
      "metadata": {
        "id": "QUWdeIGSPG_i"
      }
    },
    {
      "cell_type": "code",
      "source": [
        "string = 'My marks in each semester are: 947, 896, 926, 524, 734, 950, 642'\n",
        "\n",
        "numeric_values = re.findall(r'\\d+', string)\n",
        "numeric_values = [int(value) for value in numeric_values]\n",
        "\n",
        "max_value = max(numeric_values)\n",
        "\n",
        "print(max_value)"
      ],
      "metadata": {
        "colab": {
          "base_uri": "https://localhost:8080/"
        },
        "id": "t6Xv3FDTPIJx",
        "outputId": "26935e67-20b4-4f10-c446-332cd5e3cee2"
      },
      "execution_count": null,
      "outputs": [
        {
          "output_type": "stream",
          "name": "stdout",
          "text": [
            "950\n"
          ]
        }
      ]
    },
    {
      "cell_type": "markdown",
      "source": [
        "## Question 23- Create a function in python to insert spaces between words starting with capital letters."
      ],
      "metadata": {
        "id": "XNlaXzZyPccO"
      }
    },
    {
      "cell_type": "code",
      "source": [
        "items = 'RegularExpressionIsAnImportantTopicInPython'\n",
        "\n",
        "pattern = re.compile(r'(\\w)([A-Z])')\n",
        "\n",
        "print(re.sub(pattern,r'\\1 \\2', items))"
      ],
      "metadata": {
        "colab": {
          "base_uri": "https://localhost:8080/"
        },
        "id": "gC8XxB3aPdjp",
        "outputId": "de3d77bb-e4f6-4260-de30-40dc11c72c1c"
      },
      "execution_count": null,
      "outputs": [
        {
          "output_type": "stream",
          "name": "stdout",
          "text": [
            "Regular Expression Is An Important Topic In Python\n"
          ]
        }
      ]
    },
    {
      "cell_type": "markdown",
      "source": [
        "## Question 24- Python regex to find sequences of one upper case letter followed by lower case letters"
      ],
      "metadata": {
        "id": "miLBflWlQAh1"
      }
    },
    {
      "cell_type": "code",
      "source": [
        "def text_match_fun(text):\n",
        "        patterns = '[A-Z]+[a-z]+$'\n",
        "        if re.search(patterns, text):\n",
        "                return 'Found a text match!'\n",
        "        else:\n",
        "                return('Not text matched!')\n",
        "\n",
        "print(text_match_fun(\"Program\"))\n",
        "print(text_match_fun(\"Training new\"))\n",
        "print(text_match_fun(\"ALL\"))\n",
        "print(text_match_fun(\"DaTa\"))\n",
        "print(text_match_fun(\"Sa\"))\n",
        "print(text_match_fun(\"aS\"))"
      ],
      "metadata": {
        "colab": {
          "base_uri": "https://localhost:8080/"
        },
        "id": "Kuv36DD7QBn3",
        "outputId": "3b4b0d11-3840-4fdc-a1f4-af5b974efdfe"
      },
      "execution_count": null,
      "outputs": [
        {
          "output_type": "stream",
          "name": "stdout",
          "text": [
            "Found a text match!\n",
            "Not text matched!\n",
            "Not text matched!\n",
            "Found a text match!\n",
            "Found a text match!\n",
            "Not text matched!\n"
          ]
        }
      ]
    },
    {
      "cell_type": "markdown",
      "source": [
        "## Question 25- Write a Python program to remove continuous duplicate words from Sentence using Regular Expression."
      ],
      "metadata": {
        "id": "pLtax5TGQhtN"
      }
    },
    {
      "cell_type": "code",
      "source": [
        "items = 'Hello hello world world'\n",
        "\n",
        "pattern = re.compile(r'\\b(\\w+)(\\s+\\1\\b)+')\n",
        "\n",
        "print(re.sub(pattern,r'\\1', items))"
      ],
      "metadata": {
        "colab": {
          "base_uri": "https://localhost:8080/"
        },
        "id": "oRJ66WNEQjwR",
        "outputId": "bc0eb57b-3ccd-42de-a854-8d00b22c1055"
      },
      "execution_count": null,
      "outputs": [
        {
          "output_type": "stream",
          "name": "stdout",
          "text": [
            "Hello hello world\n"
          ]
        }
      ]
    },
    {
      "cell_type": "markdown",
      "source": [
        "## Question 26-  Write a python program using RegEx to accept string ending with alphanumeric character."
      ],
      "metadata": {
        "id": "ArX5VPbcQ3yi"
      }
    },
    {
      "cell_type": "code",
      "source": [
        "regex = '[a-zA-z0-9]$'\n",
        "\n",
        "def check_string(string):\n",
        "\n",
        "     # pass the regular expression\n",
        "     # and the string in search() method\n",
        "    if(re.search(regex, string)):\n",
        "        print(\"Accept the string\")\n",
        "\n",
        "    else:\n",
        "        print(\"Discard the string\")\n",
        "\n",
        "print(check_string(\"Sumit\"))\n",
        "print(check_string(\"Sumit@\"))\n",
        "print(check_string(\"Sumit1234\"))\n"
      ],
      "metadata": {
        "colab": {
          "base_uri": "https://localhost:8080/"
        },
        "id": "VmrDt85mQ48x",
        "outputId": "c415aecc-4172-436c-d43c-3c0a1ab5a075"
      },
      "execution_count": null,
      "outputs": [
        {
          "output_type": "stream",
          "name": "stdout",
          "text": [
            "Accept the string\n",
            "None\n",
            "Discard the string\n",
            "None\n",
            "Accept the string\n",
            "None\n"
          ]
        }
      ]
    },
    {
      "cell_type": "markdown",
      "source": [
        "## Question 27-Write a python program using RegEx to extract the hashtags."
      ],
      "metadata": {
        "id": "IprCooZMSNDI"
      }
    },
    {
      "cell_type": "code",
      "source": [
        "items = \"\"\"RT @kapil_kausik: #Doltiwal I mean #xyzabc is \"hurt\" by #Demonetization as the same has rendered USELESS <ed><U+00A0><U+00BD><ed><U+00B1><U+0089> \"acquired funds\" No wo\"\"\"\n",
        "\n",
        "pattern = re.compile(r'#\\w+')\n",
        "\n",
        "print(re.findall(pattern, items))"
      ],
      "metadata": {
        "colab": {
          "base_uri": "https://localhost:8080/"
        },
        "id": "GIKZ58ScSOSK",
        "outputId": "bebd3bf1-879f-4dff-e377-29b0a00d216b"
      },
      "execution_count": null,
      "outputs": [
        {
          "output_type": "stream",
          "name": "stdout",
          "text": [
            "['#Doltiwal', '#xyzabc', '#Demonetization']\n"
          ]
        }
      ]
    },
    {
      "cell_type": "markdown",
      "source": [
        "Question 28- Write a python program using RegEx to remove <U+..> like symbols\n",
        "Check the below sample text, there are strange symbols something of the sort <U+..> all over the place. You need to come up with a general Regex expression that will cover all such symbols.\n"
      ],
      "metadata": {
        "id": "uuRqrlr6S9AK"
      }
    },
    {
      "cell_type": "code",
      "source": [
        "items = \"@Jags123456 Bharat band on 28??<ed><U+00A0><U+00BD><ed><U+00B8><U+0082>Those who  are protesting #demonetization  are all different party leaders\"\n",
        "\n",
        "pattern = re.compile(r\"<U\\+\\w{4}>\")\n",
        "\n",
        "print(re.sub(pattern, \"\", items))"
      ],
      "metadata": {
        "colab": {
          "base_uri": "https://localhost:8080/"
        },
        "id": "gIY3Nja8S_W6",
        "outputId": "e21d4d6d-a3b7-485f-e4ef-58bc11857b24"
      },
      "execution_count": null,
      "outputs": [
        {
          "output_type": "stream",
          "name": "stdout",
          "text": [
            "@Jags123456 Bharat band on 28??<ed><ed>Those who  are protesting #demonetization  are all different party leaders\n"
          ]
        }
      ]
    },
    {
      "cell_type": "markdown",
      "source": [
        "## Question 29- Write a python program to extract dates from the text stored in the text file."
      ],
      "metadata": {
        "id": "mFh_qWlFTfbT"
      }
    },
    {
      "cell_type": "code",
      "source": [
        "items = \"Ron was born on 12-09-1992 and he was admitted to school 15-12-1999.\"\n",
        "\n",
        "pattern = re.compile(r'\\d{2}-\\d{2}-\\d{4}')\n",
        "\n",
        "print(re.findall(pattern, items))"
      ],
      "metadata": {
        "colab": {
          "base_uri": "https://localhost:8080/"
        },
        "id": "0tZGFGSSTgtx",
        "outputId": "d2a8f4c0-ffcc-4d3a-b537-491cc4431c9b"
      },
      "execution_count": null,
      "outputs": [
        {
          "output_type": "stream",
          "name": "stdout",
          "text": [
            "['12-09-1992', '15-12-1999']\n"
          ]
        }
      ]
    },
    {
      "cell_type": "markdown",
      "source": [
        "Question 30- Create a function in python to remove all words from a string of length between 2 and 4.The use of the re.compile() method is mandatory."
      ],
      "metadata": {
        "id": "SKFfEZMVT7h5"
      }
    },
    {
      "cell_type": "code",
      "source": [
        "items = \"The following example creates an ArrayList with a capacity of 50 elements. 4 elements are then added to the ArrayList and the ArrayList is trimmed accordingly.\"\n",
        "\n",
        "pattern = re.compile(r'\\b\\w{2,4}\\b')\n",
        "\n",
        "print(re.sub(pattern, '',items))"
      ],
      "metadata": {
        "colab": {
          "base_uri": "https://localhost:8080/"
        },
        "id": "wmG-K0_bUBQ7",
        "outputId": "c67a9aa0-d7b1-4b76-93a9-b08524547dfc"
      },
      "execution_count": null,
      "outputs": [
        {
          "output_type": "stream",
          "name": "stdout",
          "text": [
            " following example creates  ArrayList  a capacity   elements. 4 elements   added   ArrayList   ArrayList  trimmed accordingly.\n"
          ]
        }
      ]
    }
  ]
}