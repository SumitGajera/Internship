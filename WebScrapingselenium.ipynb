{
 "cells": [
  {
   "cell_type": "code",
   "execution_count": 1,
   "id": "3d680a0a-140c-41d5-8355-f3914b539879",
   "metadata": {},
   "outputs": [
    {
     "name": "stdout",
     "output_type": "stream",
     "text": [
      "Collecting selenium\n",
      "  Using cached selenium-4.24.0-py3-none-any.whl.metadata (7.1 kB)\n",
      "Requirement already satisfied: urllib3<3,>=1.26 in c:\\users\\sumit\\anaconda3\\lib\\site-packages (from urllib3[socks]<3,>=1.26->selenium) (2.0.7)\n",
      "Collecting trio~=0.17 (from selenium)\n",
      "  Using cached trio-0.26.2-py3-none-any.whl.metadata (8.6 kB)\n",
      "Collecting trio-websocket~=0.9 (from selenium)\n",
      "  Using cached trio_websocket-0.11.1-py3-none-any.whl.metadata (4.7 kB)\n",
      "Requirement already satisfied: certifi>=2021.10.8 in c:\\users\\sumit\\anaconda3\\lib\\site-packages (from selenium) (2024.2.2)\n",
      "Requirement already satisfied: typing_extensions~=4.9 in c:\\users\\sumit\\anaconda3\\lib\\site-packages (from selenium) (4.9.0)\n",
      "Collecting websocket-client~=1.8 (from selenium)\n",
      "  Using cached websocket_client-1.8.0-py3-none-any.whl.metadata (8.0 kB)\n",
      "Collecting attrs>=23.2.0 (from trio~=0.17->selenium)\n",
      "  Using cached attrs-24.2.0-py3-none-any.whl.metadata (11 kB)\n",
      "Requirement already satisfied: sortedcontainers in c:\\users\\sumit\\anaconda3\\lib\\site-packages (from trio~=0.17->selenium) (2.4.0)\n",
      "Requirement already satisfied: idna in c:\\users\\sumit\\anaconda3\\lib\\site-packages (from trio~=0.17->selenium) (3.4)\n",
      "Collecting outcome (from trio~=0.17->selenium)\n",
      "  Using cached outcome-1.3.0.post0-py2.py3-none-any.whl.metadata (2.6 kB)\n",
      "Requirement already satisfied: sniffio>=1.3.0 in c:\\users\\sumit\\anaconda3\\lib\\site-packages (from trio~=0.17->selenium) (1.3.0)\n",
      "Requirement already satisfied: cffi>=1.14 in c:\\users\\sumit\\anaconda3\\lib\\site-packages (from trio~=0.17->selenium) (1.16.0)\n",
      "Collecting wsproto>=0.14 (from trio-websocket~=0.9->selenium)\n",
      "  Using cached wsproto-1.2.0-py3-none-any.whl.metadata (5.6 kB)\n",
      "Requirement already satisfied: pysocks!=1.5.7,<2.0,>=1.5.6 in c:\\users\\sumit\\anaconda3\\lib\\site-packages (from urllib3[socks]<3,>=1.26->selenium) (1.7.1)\n",
      "Requirement already satisfied: pycparser in c:\\users\\sumit\\anaconda3\\lib\\site-packages (from cffi>=1.14->trio~=0.17->selenium) (2.21)\n",
      "Collecting h11<1,>=0.9.0 (from wsproto>=0.14->trio-websocket~=0.9->selenium)\n",
      "  Using cached h11-0.14.0-py3-none-any.whl.metadata (8.2 kB)\n",
      "Using cached selenium-4.24.0-py3-none-any.whl (9.6 MB)\n",
      "Using cached trio-0.26.2-py3-none-any.whl (475 kB)\n",
      "Using cached trio_websocket-0.11.1-py3-none-any.whl (17 kB)\n",
      "Using cached websocket_client-1.8.0-py3-none-any.whl (58 kB)\n",
      "Using cached attrs-24.2.0-py3-none-any.whl (63 kB)\n",
      "Using cached wsproto-1.2.0-py3-none-any.whl (24 kB)\n",
      "Using cached outcome-1.3.0.post0-py2.py3-none-any.whl (10 kB)\n",
      "Using cached h11-0.14.0-py3-none-any.whl (58 kB)\n",
      "Installing collected packages: websocket-client, h11, attrs, wsproto, outcome, trio, trio-websocket, selenium\n",
      "  Attempting uninstall: websocket-client\n",
      "    Found existing installation: websocket-client 0.58.0\n",
      "    Uninstalling websocket-client-0.58.0:\n",
      "      Successfully uninstalled websocket-client-0.58.0\n",
      "  Attempting uninstall: attrs\n",
      "    Found existing installation: attrs 23.1.0\n",
      "    Uninstalling attrs-23.1.0:\n",
      "      Successfully uninstalled attrs-23.1.0\n",
      "Successfully installed attrs-24.2.0 h11-0.14.0 outcome-1.3.0.post0 selenium-4.24.0 trio-0.26.2 trio-websocket-0.11.1 websocket-client-1.8.0 wsproto-1.2.0\n"
     ]
    }
   ],
   "source": [
    "!pip install selenium"
   ]
  },
  {
   "cell_type": "code",
   "execution_count": 23,
   "id": "7396bbd7-aae9-401e-b200-944ae0d19aec",
   "metadata": {},
   "outputs": [],
   "source": [
    "import selenium\n",
    "import pandas as pd\n",
    "from selenium import webdriver\n",
    "from selenium.webdriver.common.by import By\n",
    "from selenium.webdriver.chrome.options import Options\n",
    "import warnings \n",
    "warnings.filterwarnings('ignore')\n",
    "import time"
   ]
  },
  {
   "cell_type": "code",
   "execution_count": 24,
   "id": "94fa2251-6740-4533-b650-a70ceac73fb9",
   "metadata": {},
   "outputs": [],
   "source": [
    "driver = webdriver.Chrome()"
   ]
  },
  {
   "cell_type": "code",
   "execution_count": 60,
   "id": "e2f5b7d2-e09a-4d67-8175-131dff59a74f",
   "metadata": {},
   "outputs": [],
   "source": [
    "driver.get(\"https://www.naukri.com/\")"
   ]
  },
  {
   "cell_type": "code",
   "execution_count": 61,
   "id": "df627a34-9ced-4d53-bea3-a6629ffbc2e7",
   "metadata": {},
   "outputs": [],
   "source": [
    "designation = driver.find_element(By.CLASS_NAME ,\"suggestor-input\")\n",
    "designation.send_keys('Data Scientist')"
   ]
  },
  {
   "cell_type": "code",
   "execution_count": 64,
   "id": "ca61b5c8-d810-4588-8d53-95cf321e0dbe",
   "metadata": {},
   "outputs": [],
   "source": [
    "location = driver.find_element(By.XPATH , \"/html/body/div[1]/div[6]/div/div/div[5]/div/div/div/div[1]/div/input\")\n",
    "location.send_keys('Delhi/NCR')\n",
    "\n"
   ]
  },
  {
   "cell_type": "code",
   "execution_count": 65,
   "id": "67635c9e-860b-4278-b129-e84b4bffd01b",
   "metadata": {},
   "outputs": [],
   "source": [
    "search = driver.find_element(By.CLASS_NAME , \"qsbSubmit\")\n",
    "search.click()"
   ]
  },
  {
   "cell_type": "code",
   "execution_count": 66,
   "id": "60d86a70-203b-4ace-903d-436d07de7fd5",
   "metadata": {},
   "outputs": [],
   "source": [
    "job_title = []\n",
    "job_location=[]\n",
    "company_name = []\n",
    "experience =[]\n"
   ]
  },
  {
   "cell_type": "code",
   "execution_count": 101,
   "id": "bfd14ea3-6b87-4ba9-9bbd-de1c20764bfc",
   "metadata": {},
   "outputs": [
    {
     "name": "stdout",
     "output_type": "stream",
     "text": [
      "411\n",
      "310\n",
      "162\n",
      "190\n"
     ]
    }
   ],
   "source": [
    "title_tags = driver.find_elements(By.XPATH , '//a[@class=\"title \"]')\n",
    "for i in title_tags:\n",
    "     title =i.get_attribute('title')\n",
    "     job_title.append(title)\n",
    "\n",
    "# for i in title_tags[0:10]:\n",
    "#     print(i.get_attribute('title'))\n",
    "\n",
    "print(len(job_title))   \n",
    "\n",
    "lcoation_tags = driver.find_elements(By.XPATH , '//span[@class=\"locWdth\"]')\n",
    "for i in lcoation_tags[0:10]:\n",
    "     title =i.get_attribute('title')\n",
    "     job_location.append(title)\n",
    "\n",
    "print(len(job_location))   \n",
    "\n",
    "# for i in lcoation_tags[0:10]:\n",
    "#     print(i.get_attribute('title'))\n",
    "\n",
    "# print(len(job_title)) \n",
    "\n",
    "comopany_tags = driver.find_elements(By.XPATH , '//a[@class=\" comp-name mw-25\"]')\n",
    "for i in comopany_tags[0:10]:\n",
    "     title =i.get_attribute('title')\n",
    "     company_name.append(title)\n",
    "    \n",
    "print(len(company_name))   \n",
    "\n",
    "# for i in comopany_tags[0:10]:\n",
    "#     print(i.get_attribute('title'))\n",
    "\n",
    "experience_tags = driver.find_elements(By.XPATH , '//span[@class=\"expwdth\"]')\n",
    "for i in experience_tags[0:10]:\n",
    "     title =i.get_attribute('title')\n",
    "     experience.append(title)\n",
    "    \n",
    "print(len(experience))   \n"
   ]
  },
  {
   "cell_type": "code",
   "execution_count": 107,
   "id": "92d0bbaa-b526-4fe5-bea1-a75e1306233d",
   "metadata": {},
   "outputs": [
    {
     "name": "stdout",
     "output_type": "stream",
     "text": [
      "411 310 162 190\n"
     ]
    }
   ],
   "source": [
    "print(len(job_title) ,len(job_location),len(company_name),len(experience))\n"
   ]
  },
  {
   "cell_type": "code",
   "execution_count": 105,
   "id": "8599fbdd-d35f-4c4c-ab83-a4118ce864c5",
   "metadata": {},
   "outputs": [
    {
     "data": {
      "text/html": [
       "<div>\n",
       "<style scoped>\n",
       "    .dataframe tbody tr th:only-of-type {\n",
       "        vertical-align: middle;\n",
       "    }\n",
       "\n",
       "    .dataframe tbody tr th {\n",
       "        vertical-align: top;\n",
       "    }\n",
       "\n",
       "    .dataframe thead th {\n",
       "        text-align: right;\n",
       "    }\n",
       "</style>\n",
       "<table border=\"1\" class=\"dataframe\">\n",
       "  <thead>\n",
       "    <tr style=\"text-align: right;\">\n",
       "      <th></th>\n",
       "      <th>Title</th>\n",
       "      <th>Location</th>\n",
       "      <th>Company</th>\n",
       "      <th>Experience</th>\n",
       "    </tr>\n",
       "  </thead>\n",
       "  <tbody>\n",
       "    <tr>\n",
       "      <th>0</th>\n",
       "      <td>Data Scientist</td>\n",
       "      <td>Kolkata, Mumbai, New Delhi, Hyderabad, Pune, C...</td>\n",
       "      <td>Nityo Infotech</td>\n",
       "      <td>3-7 Yrs</td>\n",
       "    </tr>\n",
       "    <tr>\n",
       "      <th>1</th>\n",
       "      <td>Data Scientist: Artificial Intelligence</td>\n",
       "      <td>Gurugram</td>\n",
       "      <td>IBM</td>\n",
       "      <td>3-7 Yrs</td>\n",
       "    </tr>\n",
       "    <tr>\n",
       "      <th>2</th>\n",
       "      <td>Data Scientist (AI/ML)|| US Based MNC || Noida</td>\n",
       "      <td>Hybrid - Noida</td>\n",
       "      <td>Biz Tech Consultants</td>\n",
       "      <td>3-5 Yrs</td>\n",
       "    </tr>\n",
       "    <tr>\n",
       "      <th>3</th>\n",
       "      <td>Data Analyst</td>\n",
       "      <td>Kolkata(Minto Park), Papua New Guinea</td>\n",
       "      <td>Biz Tech Consultants</td>\n",
       "      <td>10-20 Yrs</td>\n",
       "    </tr>\n",
       "    <tr>\n",
       "      <th>4</th>\n",
       "      <td>Snowflake Data Engineer</td>\n",
       "      <td>Kolkata, Mumbai, New Delhi, Hyderabad, Pune, C...</td>\n",
       "      <td>Biz Tech Consultants</td>\n",
       "      <td>2-6 Yrs</td>\n",
       "    </tr>\n",
       "    <tr>\n",
       "      <th>...</th>\n",
       "      <td>...</td>\n",
       "      <td>...</td>\n",
       "      <td>...</td>\n",
       "      <td>...</td>\n",
       "    </tr>\n",
       "    <tr>\n",
       "      <th>406</th>\n",
       "      <td>Data Scientist</td>\n",
       "      <td>None</td>\n",
       "      <td>None</td>\n",
       "      <td>None</td>\n",
       "    </tr>\n",
       "    <tr>\n",
       "      <th>407</th>\n",
       "      <td>Data Scientist</td>\n",
       "      <td>None</td>\n",
       "      <td>None</td>\n",
       "      <td>None</td>\n",
       "    </tr>\n",
       "    <tr>\n",
       "      <th>408</th>\n",
       "      <td>Data Scientist</td>\n",
       "      <td>None</td>\n",
       "      <td>None</td>\n",
       "      <td>None</td>\n",
       "    </tr>\n",
       "    <tr>\n",
       "      <th>409</th>\n",
       "      <td>Data Scientist</td>\n",
       "      <td>None</td>\n",
       "      <td>None</td>\n",
       "      <td>None</td>\n",
       "    </tr>\n",
       "    <tr>\n",
       "      <th>410</th>\n",
       "      <td>Data Scientist- LLM/NLP</td>\n",
       "      <td>None</td>\n",
       "      <td>None</td>\n",
       "      <td>None</td>\n",
       "    </tr>\n",
       "  </tbody>\n",
       "</table>\n",
       "<p>411 rows × 4 columns</p>\n",
       "</div>"
      ],
      "text/plain": [
       "                                              Title  \\\n",
       "0                                    Data Scientist   \n",
       "1           Data Scientist: Artificial Intelligence   \n",
       "2    Data Scientist (AI/ML)|| US Based MNC || Noida   \n",
       "3                                      Data Analyst   \n",
       "4                           Snowflake Data Engineer   \n",
       "..                                              ...   \n",
       "406                                  Data Scientist   \n",
       "407                                  Data Scientist   \n",
       "408                                  Data Scientist   \n",
       "409                                  Data Scientist   \n",
       "410                         Data Scientist- LLM/NLP   \n",
       "\n",
       "                                              Location               Company  \\\n",
       "0    Kolkata, Mumbai, New Delhi, Hyderabad, Pune, C...        Nityo Infotech   \n",
       "1                                             Gurugram                   IBM   \n",
       "2                                       Hybrid - Noida  Biz Tech Consultants   \n",
       "3                Kolkata(Minto Park), Papua New Guinea  Biz Tech Consultants   \n",
       "4    Kolkata, Mumbai, New Delhi, Hyderabad, Pune, C...  Biz Tech Consultants   \n",
       "..                                                 ...                   ...   \n",
       "406                                               None                  None   \n",
       "407                                               None                  None   \n",
       "408                                               None                  None   \n",
       "409                                               None                  None   \n",
       "410                                               None                  None   \n",
       "\n",
       "    Experience  \n",
       "0      3-7 Yrs  \n",
       "1      3-7 Yrs  \n",
       "2      3-5 Yrs  \n",
       "3    10-20 Yrs  \n",
       "4      2-6 Yrs  \n",
       "..         ...  \n",
       "406       None  \n",
       "407       None  \n",
       "408       None  \n",
       "409       None  \n",
       "410       None  \n",
       "\n",
       "[411 rows x 4 columns]"
      ]
     },
     "execution_count": 105,
     "metadata": {},
     "output_type": "execute_result"
    }
   ],
   "source": [
    "a = {'Title':job_title , 'Location' :job_location , 'Company' : company_name,'Experience' :experience}\n",
    "df = pd.DataFrame.from_dict(a, orient='index')\n",
    "df = df.transpose()\n",
    "df"
   ]
  },
  {
   "cell_type": "code",
   "execution_count": 36,
   "id": "a4d64897-8d0b-4763-9579-45674d7e846f",
   "metadata": {},
   "outputs": [],
   "source": [
    "driver.get(\"https://www.shine.com/\")"
   ]
  },
  {
   "cell_type": "code",
   "execution_count": 38,
   "id": "a864ee99-e3a4-4fad-9092-3856f4fa3f48",
   "metadata": {},
   "outputs": [],
   "source": [
    "designation = driver.find_element(By.CLASS_NAME ,\"input\")\n",
    "designation.send_keys('Data Analyst')"
   ]
  },
  {
   "cell_type": "code",
   "execution_count": 39,
   "id": "3f391e85-3929-49b0-b610-5b5ef0f17702",
   "metadata": {},
   "outputs": [],
   "source": [
    "search = driver.find_element(By.CLASS_NAME , \"iconH-zoom-white\")\n",
    "search.click()"
   ]
  },
  {
   "cell_type": "code",
   "execution_count": 46,
   "id": "66404549-4e8c-40df-9189-b75828b9cd34",
   "metadata": {},
   "outputs": [],
   "source": [
    "designation = driver.find_element(By.CLASS_NAME ,\"form-control\")\n",
    "designation.send_keys('Data Analyst')"
   ]
  },
  {
   "cell_type": "code",
   "execution_count": 52,
   "id": "afd87961-d167-4881-99e3-0607b105d0ee",
   "metadata": {},
   "outputs": [],
   "source": [
    "designation = driver.find_element(By.CLASS_NAME ,\"form-control\")\n",
    "designation.send_keys('Bangalore')"
   ]
  },
  {
   "cell_type": "code",
   "execution_count": 56,
   "id": "d6016f6d-33a7-47f4-ae0b-8dad6cb5d98e",
   "metadata": {},
   "outputs": [
    {
     "name": "stdout",
     "output_type": "stream",
     "text": [
      "3\n",
      "2\n",
      "2\n",
      "2\n"
     ]
    }
   ],
   "source": [
    "job_title = []\n",
    "job_location=[]\n",
    "company_name = []\n",
    "experience =[]\n",
    "\n",
    "title_tags = driver.find_elements(By.XPATH , '//a[@href=\"/jobs/senior-cost-consultant/teamwork-cables-private-limited/15702663\"]')\n",
    "for i in title_tags:\n",
    "     title =i.text\n",
    "     job_title.append(title)\n",
    "\n",
    "print(len(job_title))   \n",
    "\n",
    "lcoation_tags = driver.find_elements(By.XPATH , '//div[@class=\"jobCard_jobCard_lists_item__YxRkV jobCard_locationIcon__zrWt2\"]')\n",
    "for i in lcoation_tags:\n",
    "     title =i.text\n",
    "     job_location.append(title)\n",
    "\n",
    "print(len(job_location))   \n",
    "\n",
    "comopany_tags = driver.find_elements(By.XPATH , '//div[@class=\"jobCard_jobCard_lists_item__YxRkV jobCard_locationIcon__zrWt2\"]')\n",
    "for i in comopany_tags:\n",
    "     title =i.text\n",
    "     company_name.append(title)\n",
    "print(len(company_name))   \n",
    "\n",
    "experience_tags = driver.find_elements(By.XPATH , '//div[@class=\" jobCard_jobCard_lists_item__YxRkV jobCard_jobIcon__3FB1t\"]')\n",
    "for i in experience_tags:\n",
    "     title =i.text\n",
    "     experience.append(title)\n",
    "\n",
    "print(len(experience))   \n",
    "\n",
    "\n"
   ]
  },
  {
   "cell_type": "code",
   "execution_count": 57,
   "id": "7e59ebfc-7038-4fa1-85e0-102b19635093",
   "metadata": {},
   "outputs": [
    {
     "data": {
      "text/html": [
       "<div>\n",
       "<style scoped>\n",
       "    .dataframe tbody tr th:only-of-type {\n",
       "        vertical-align: middle;\n",
       "    }\n",
       "\n",
       "    .dataframe tbody tr th {\n",
       "        vertical-align: top;\n",
       "    }\n",
       "\n",
       "    .dataframe thead th {\n",
       "        text-align: right;\n",
       "    }\n",
       "</style>\n",
       "<table border=\"1\" class=\"dataframe\">\n",
       "  <thead>\n",
       "    <tr style=\"text-align: right;\">\n",
       "      <th></th>\n",
       "      <th>Title</th>\n",
       "      <th>Location</th>\n",
       "      <th>Company</th>\n",
       "      <th>Experience</th>\n",
       "    </tr>\n",
       "  </thead>\n",
       "  <tbody>\n",
       "    <tr>\n",
       "      <th>0</th>\n",
       "      <td></td>\n",
       "      <td>Argentina\\n+12</td>\n",
       "      <td>Argentina\\n+12</td>\n",
       "      <td>6 to 8 Yrs</td>\n",
       "    </tr>\n",
       "    <tr>\n",
       "      <th>1</th>\n",
       "      <td>Senior Cost Consultant</td>\n",
       "      <td>Argentina\\n+18</td>\n",
       "      <td>Argentina\\n+18</td>\n",
       "      <td>5 to 10 Yrs</td>\n",
       "    </tr>\n",
       "    <tr>\n",
       "      <th>2</th>\n",
       "      <td>Senior Cost Consultant</td>\n",
       "      <td>None</td>\n",
       "      <td>None</td>\n",
       "      <td>None</td>\n",
       "    </tr>\n",
       "  </tbody>\n",
       "</table>\n",
       "</div>"
      ],
      "text/plain": [
       "                    Title        Location         Company   Experience\n",
       "0                          Argentina\\n+12  Argentina\\n+12   6 to 8 Yrs\n",
       "1  Senior Cost Consultant  Argentina\\n+18  Argentina\\n+18  5 to 10 Yrs\n",
       "2  Senior Cost Consultant            None            None         None"
      ]
     },
     "execution_count": 57,
     "metadata": {},
     "output_type": "execute_result"
    }
   ],
   "source": [
    "a ={'Title':job_title , 'Location' :job_location , 'Company' : company_name,'Experience' :experience}\n",
    "df = pd.DataFrame.from_dict(a, orient='index')\n",
    "df = df.transpose()\n",
    "df"
   ]
  },
  {
   "cell_type": "code",
   "execution_count": 136,
   "id": "ff65ff51-bd17-4e07-a478-cea5166969fc",
   "metadata": {},
   "outputs": [],
   "source": [
    "driver.get(\"https://www.flipkart.com/apple-iphone-11-black-64-gb/product-reviews/itm4e5041ba101fd?pid=MOBFWQ6BXGJCEYNY&lid=LSTMOBFWQ6BXGJCEYNYZXSHRJ&marketplace=FLIPKART\")"
   ]
  },
  {
   "cell_type": "code",
   "execution_count": 137,
   "id": "83cd7dca-cd13-4850-99f0-f44116c6ce9c",
   "metadata": {},
   "outputs": [],
   "source": [
    "rating =[]\n",
    "review_sum=[]\n",
    "full_review=[]\n"
   ]
  },
  {
   "cell_type": "code",
   "execution_count": 125,
   "id": "cdd57175-c9e2-47c2-bf9f-eaf8b58d0e7d",
   "metadata": {},
   "outputs": [],
   "source": [
    "start=0\n",
    "end=10\n",
    "\n",
    "for page in range(start,end):\n",
    "    review = driver.find_elements(By.XPATH , '//div[@class=\"XQDdHH Ga3i8K\"]')\n",
    "    for i in review:\n",
    "        rating.append(i.text)\n",
    "    next_button= driver.find_element(By.XPATH , '//a[@class=\"_9QVEpD\"]')\n",
    "    next_button.click()\n",
    "    time.sleep(3)\n",
    "\n"
   ]
  },
  {
   "cell_type": "code",
   "execution_count": 126,
   "id": "03c202aa-46f5-4c0b-86a1-ad3fffcc66a4",
   "metadata": {},
   "outputs": [
    {
     "data": {
      "text/plain": [
       "100"
      ]
     },
     "execution_count": 126,
     "metadata": {},
     "output_type": "execute_result"
    }
   ],
   "source": [
    "len(rating)"
   ]
  },
  {
   "cell_type": "code",
   "execution_count": 131,
   "id": "10a137e6-82ce-4bf5-b94f-c6f859d63134",
   "metadata": {},
   "outputs": [],
   "source": [
    "start=0\n",
    "end=10\n",
    "\n",
    "for page in range(start,end):\n",
    "    review = driver.find_elements(By.XPATH , '//p[@class=\"z9E0IG\"]')\n",
    "    for i in review:\n",
    "        review_sum.append(i.text)\n",
    "    next_button= driver.find_element(By.XPATH , '//a[@class=\"_9QVEpD\"]')\n",
    "    next_button.click()\n",
    "    time.sleep(3)"
   ]
  },
  {
   "cell_type": "code",
   "execution_count": 132,
   "id": "e44cf994-7c2b-4431-ac1a-f0bc70955b94",
   "metadata": {},
   "outputs": [
    {
     "data": {
      "text/plain": [
       "100"
      ]
     },
     "execution_count": 132,
     "metadata": {},
     "output_type": "execute_result"
    }
   ],
   "source": [
    "len(review_sum)"
   ]
  },
  {
   "cell_type": "code",
   "execution_count": 138,
   "id": "5be3d319-190b-467b-87da-de3a666ecc34",
   "metadata": {},
   "outputs": [
    {
     "data": {
      "text/plain": [
       "100"
      ]
     },
     "execution_count": 138,
     "metadata": {},
     "output_type": "execute_result"
    }
   ],
   "source": [
    "start=0\n",
    "end=10\n",
    "\n",
    "for page in range(start,end):\n",
    "    review = driver.find_elements(By.XPATH , '//div[@class=\"ZmyHeo\"]')\n",
    "    for i in review:\n",
    "        full_review.append(i.text)\n",
    "    next_button= driver.find_element(By.XPATH , '//a[@class=\"_9QVEpD\"]')\n",
    "    next_button.click()\n",
    "    time.sleep(3)\n",
    "\n",
    "len(full_review)"
   ]
  },
  {
   "cell_type": "code",
   "execution_count": 159,
   "id": "9dd2e79c-5073-4cb7-bd94-e5ae252a55ec",
   "metadata": {},
   "outputs": [],
   "source": [
    "driver.get(\"https://www.flipkart.com/search?q=sneakers&otracker=search&otracker1=search&marketplace=FLIPKART&as-show=off&as=off\")"
   ]
  },
  {
   "cell_type": "code",
   "execution_count": 155,
   "id": "b1bdbf62-4350-4c72-8c02-fd672256a6f1",
   "metadata": {},
   "outputs": [],
   "source": [
    "brand =[]\n",
    "pro_dec=[]\n",
    "price=[]"
   ]
  },
  {
   "cell_type": "code",
   "execution_count": 141,
   "id": "89b87ac5-b090-4e0b-bcdb-d9ac1551e951",
   "metadata": {},
   "outputs": [
    {
     "data": {
      "text/plain": [
       "120"
      ]
     },
     "execution_count": 141,
     "metadata": {},
     "output_type": "execute_result"
    }
   ],
   "source": [
    "start=0\n",
    "end=3\n",
    "\n",
    "for page in range(start,end):\n",
    "    review = driver.find_elements(By.XPATH , '//div[@class=\"syl9yP\"]')\n",
    "    for i in review:\n",
    "        brand.append(i.text)\n",
    "    next_button= driver.find_element(By.XPATH , '//a[@class=\"_9QVEpD\"]')\n",
    "    next_button.click()\n",
    "    time.sleep(3)\n",
    "\n",
    "len(brand)"
   ]
  },
  {
   "cell_type": "code",
   "execution_count": 160,
   "id": "9c1fcc9a-716e-4ab1-8258-366108784fc0",
   "metadata": {},
   "outputs": [
    {
     "data": {
      "text/plain": [
       "187"
      ]
     },
     "execution_count": 160,
     "metadata": {},
     "output_type": "execute_result"
    }
   ],
   "source": [
    "start=0\n",
    "end=4\n",
    "\n",
    "for page in range(start,end):\n",
    "    review = driver.find_elements(By.XPATH , '//a[@class=\"WKTcLC\"]')\n",
    "    for i in review:\n",
    "        pro_dec.append(i.text)\n",
    "    next_button= driver.find_element(By.XPATH , '//a[@class=\"_9QVEpD\"]')\n",
    "    next_button.click()\n",
    "    time.sleep(3)\n",
    "\n",
    "len(pro_dec)"
   ]
  },
  {
   "cell_type": "code",
   "execution_count": 156,
   "id": "40d3e773-83dc-458d-808c-bb02a2a1f0c7",
   "metadata": {},
   "outputs": [
    {
     "data": {
      "text/plain": [
       "120"
      ]
     },
     "execution_count": 156,
     "metadata": {},
     "output_type": "execute_result"
    }
   ],
   "source": [
    "\n",
    "start=0\n",
    "end=3\n",
    "\n",
    "for page in range(start,end):\n",
    "    review = driver.find_elements(By.XPATH , '//div[@class=\"Nx9bqj\"]')\n",
    "    for i in review:\n",
    "        price.append(i.text)\n",
    "    next_button= driver.find_element(By.XPATH , '//a[@class=\"_9QVEpD\"]')\n",
    "    next_button.click()\n",
    "    time.sleep(3)\n",
    "\n",
    "len(price)"
   ]
  },
  {
   "cell_type": "code",
   "execution_count": 161,
   "id": "1caafc65-be96-4545-8be0-d20f034e10a1",
   "metadata": {},
   "outputs": [],
   "source": [
    "driver.get(\" https://www.amazon.in/\")"
   ]
  },
  {
   "cell_type": "code",
   "execution_count": 163,
   "id": "4f2ad6a9-775f-4812-90c0-0e45e2fd0229",
   "metadata": {},
   "outputs": [],
   "source": [
    "designation = driver.find_element(By.XPATH ,\"/html/body/div[1]/header/div/div[1]/div[2]/div/form/div[2]/div[1]/input\")\n",
    "designation.send_keys('Laptop')"
   ]
  },
  {
   "cell_type": "code",
   "execution_count": 164,
   "id": "ed915192-6bae-4d94-948d-1a89b1c3f3a0",
   "metadata": {},
   "outputs": [],
   "source": [
    "search = driver.find_element(By.XPATH , \"/html/body/div[1]/header/div/div[1]/div[2]/div/form/div[3]/div/span/input\")\n",
    "search.click()"
   ]
  },
  {
   "cell_type": "code",
   "execution_count": 165,
   "id": "5c733ba0-481c-4212-baec-ffa4ecb7c87d",
   "metadata": {},
   "outputs": [],
   "source": [
    "title =[]\n",
    "rating= []\n",
    "price = []\n"
   ]
  },
  {
   "cell_type": "code",
   "execution_count": 170,
   "id": "6230a6d2-5615-4278-9094-f489b1ffa274",
   "metadata": {},
   "outputs": [
    {
     "name": "stdout",
     "output_type": "stream",
     "text": [
      "10\n"
     ]
    }
   ],
   "source": [
    "\n",
    "\n",
    "title_tags = driver.find_elements(By.XPATH , '//span[@class=\"a-size-medium a-color-base a-text-normal\"]')\n",
    "for i in title_tags[0:10]:\n",
    "     title1 =i.text\n",
    "     title.append(title1)\n",
    "    \n",
    "print(len(title))   "
   ]
  },
  {
   "cell_type": "code",
   "execution_count": 171,
   "id": "fbeb77f4-00a4-4d25-8095-e5be8736ff20",
   "metadata": {},
   "outputs": [
    {
     "name": "stdout",
     "output_type": "stream",
     "text": [
      "10\n"
     ]
    }
   ],
   "source": [
    "\n",
    "rating_tags = driver.find_elements(By.XPATH , '//span[@class=\"a-icon-alt\"]')\n",
    "for i in title_tags[0:10]:\n",
    "     title1 =i.text\n",
    "     rating.append(title1)\n",
    "    \n",
    "print(len(rating))  "
   ]
  },
  {
   "cell_type": "code",
   "execution_count": 172,
   "id": "b24eee4b-9af5-4afd-a42f-f2cc94d60c24",
   "metadata": {},
   "outputs": [
    {
     "name": "stdout",
     "output_type": "stream",
     "text": [
      "10\n"
     ]
    }
   ],
   "source": [
    "\n",
    "price_tags = driver.find_elements(By.XPATH , '//span[@class=\"a-price-whole\"]')\n",
    "for i in price_tags[0:10]:\n",
    "     title1 =i.text\n",
    "     price.append(title1)\n",
    "    \n",
    "print(len(price))  "
   ]
  },
  {
   "cell_type": "code",
   "execution_count": 219,
   "id": "c233d273-a0d8-413c-aeca-db9a2c4ace1b",
   "metadata": {},
   "outputs": [],
   "source": [
    "driver.get(\"https://www.azquotes.com/\")"
   ]
  },
  {
   "cell_type": "code",
   "execution_count": 220,
   "id": "c6ccfaec-555b-49ac-9a6f-31054383adff",
   "metadata": {},
   "outputs": [],
   "source": [
    "search = driver.find_element(By.XPATH , \"/html/body/div[1]/div[2]/div[1]/div/div[3]/ul/li[5]/a\")\n",
    "search.click()"
   ]
  },
  {
   "cell_type": "code",
   "execution_count": 221,
   "id": "9a628ea8-b5e0-43e3-8877-6daf68db47ac",
   "metadata": {},
   "outputs": [],
   "source": [
    "title =[]\n",
    "author= []\n",
    "type_quote = []"
   ]
  },
  {
   "cell_type": "code",
   "execution_count": 222,
   "id": "1f5c2126-9ee2-46bf-943c-aa2d8e4bbc8c",
   "metadata": {},
   "outputs": [
    {
     "data": {
      "text/plain": [
       "900"
      ]
     },
     "execution_count": 222,
     "metadata": {},
     "output_type": "execute_result"
    }
   ],
   "source": [
    "\n",
    "start=0\n",
    "end=9\n",
    "\n",
    "for page in range(start,end):\n",
    "    review = driver.find_elements(By.XPATH , '//a[@class=\"title\"]')\n",
    "    for i in review:\n",
    "        title.append(i.text)\n",
    "    next_button= driver.find_element(By.XPATH , '//li[@class=\"next\"]')\n",
    "    next_button.click()\n",
    "    time.sleep(3)\n",
    "\n",
    "len(title)\n",
    "  "
   ]
  },
  {
   "cell_type": "code",
   "execution_count": 203,
   "id": "21140320-0b99-4923-82d9-2d4757a5f91d",
   "metadata": {},
   "outputs": [
    {
     "data": {
      "text/plain": [
       "900"
      ]
     },
     "execution_count": 203,
     "metadata": {},
     "output_type": "execute_result"
    }
   ],
   "source": [
    "start=0\n",
    "end=9\n",
    "\n",
    "for page in range(start,end):\n",
    "    review = driver.find_elements(By.XPATH , '//div[@class=\"author\"]')\n",
    "    for i in review:\n",
    "        author.append(i.text)\n",
    "    next_button= driver.find_element(By.XPATH , '//li[@class=\"next\"]')\n",
    "    next_button.click()\n",
    "    time.sleep(3)\n",
    "\n",
    "len(author)"
   ]
  },
  {
   "cell_type": "code",
   "execution_count": 207,
   "id": "3b72a6fa-42de-40fd-b6fd-c588369cb032",
   "metadata": {},
   "outputs": [
    {
     "data": {
      "text/plain": [
       "900"
      ]
     },
     "execution_count": 207,
     "metadata": {},
     "output_type": "execute_result"
    }
   ],
   "source": [
    "start=0\n",
    "end=9\n",
    "\n",
    "for page in range(start,end):\n",
    "    review = driver.find_elements(By.XPATH , '//div[@class=\"tags\"]')\n",
    "    for i in review:\n",
    "        type_quote.append(i.text)\n",
    "    next_button= driver.find_element(By.XPATH , '//li[@class=\"next\"]')\n",
    "    next_button.click()\n",
    "    time.sleep(3)\n",
    "\n",
    "len(type_quote)"
   ]
  },
  {
   "cell_type": "code",
   "execution_count": 25,
   "id": "e8247bce-8095-49d6-a62c-f53dbd4cf842",
   "metadata": {},
   "outputs": [],
   "source": [
    "driver.get(\" https://www.jagranjosh.com/general-knowledge/list-ofall-prime-ministers-of-india-1473165149-1\")"
   ]
  },
  {
   "cell_type": "code",
   "execution_count": 26,
   "id": "1a37e878-73e8-4ebf-b98b-d6a0235e74c9",
   "metadata": {},
   "outputs": [],
   "source": [
    "name=[]\n",
    "born_dead= []\n",
    "term_of_office= []\n",
    "remarks =[]"
   ]
  },
  {
   "cell_type": "code",
   "execution_count": 29,
   "id": "95ef038a-e507-4852-9cc4-aa01abf44e0d",
   "metadata": {},
   "outputs": [
    {
     "name": "stdout",
     "output_type": "stream",
     "text": [
      "0 0 0 0\n"
     ]
    }
   ],
   "source": [
    "data = []\n",
    "\n",
    "table = driver.find_element(By.XPATH , '//table[@dir=\"ltr\"]')\n",
    "rows = table.find_elements(By.TAG_NAME ,'tr')\n",
    "\n",
    "# print(len(rows))\n",
    "for row in rows:\n",
    "    cols = row.find_elements(By.TAG_NAME ,'td')\n",
    "    # print(len(cols))\n",
    "    if len(cols) == 4:\n",
    "      name = cols[0].text\n",
    "      born_dead = cols[1].text\n",
    "      term_of_office = cols[2].text\n",
    "      remarks = cols[3].text\n",
    "      data.append([name, born_dead, term_of_office, remarks])\n",
    "\n",
    "print(len(name),len(born_dead),len(term_of_office),len(remarks)) "
   ]
  },
  {
   "cell_type": "code",
   "execution_count": 7,
   "id": "460c8f28-504d-4ddc-b0fc-164c235fccf5",
   "metadata": {},
   "outputs": [
    {
     "ename": "TypeError",
     "evalue": "unhashable type: 'dict'",
     "output_type": "error",
     "traceback": [
      "\u001b[1;31m---------------------------------------------------------------------------\u001b[0m",
      "\u001b[1;31mTypeError\u001b[0m                                 Traceback (most recent call last)",
      "File \u001b[1;32m~\\anaconda3\\Lib\\site-packages\\IPython\\core\\formatters.py:344\u001b[0m, in \u001b[0;36mBaseFormatter.__call__\u001b[1;34m(self, obj)\u001b[0m\n\u001b[0;32m    342\u001b[0m     method \u001b[38;5;241m=\u001b[39m get_real_method(obj, \u001b[38;5;28mself\u001b[39m\u001b[38;5;241m.\u001b[39mprint_method)\n\u001b[0;32m    343\u001b[0m     \u001b[38;5;28;01mif\u001b[39;00m method \u001b[38;5;129;01mis\u001b[39;00m \u001b[38;5;129;01mnot\u001b[39;00m \u001b[38;5;28;01mNone\u001b[39;00m:\n\u001b[1;32m--> 344\u001b[0m         \u001b[38;5;28;01mreturn\u001b[39;00m method()\n\u001b[0;32m    345\u001b[0m     \u001b[38;5;28;01mreturn\u001b[39;00m \u001b[38;5;28;01mNone\u001b[39;00m\n\u001b[0;32m    346\u001b[0m \u001b[38;5;28;01melse\u001b[39;00m:\n",
      "File \u001b[1;32m~\\anaconda3\\Lib\\site-packages\\pandas\\core\\frame.py:1175\u001b[0m, in \u001b[0;36mDataFrame._repr_html_\u001b[1;34m(self)\u001b[0m\n\u001b[0;32m   1153\u001b[0m     show_dimensions \u001b[38;5;241m=\u001b[39m get_option(\u001b[38;5;124m\"\u001b[39m\u001b[38;5;124mdisplay.show_dimensions\u001b[39m\u001b[38;5;124m\"\u001b[39m)\n\u001b[0;32m   1155\u001b[0m     formatter \u001b[38;5;241m=\u001b[39m fmt\u001b[38;5;241m.\u001b[39mDataFrameFormatter(\n\u001b[0;32m   1156\u001b[0m         \u001b[38;5;28mself\u001b[39m,\n\u001b[0;32m   1157\u001b[0m         columns\u001b[38;5;241m=\u001b[39m\u001b[38;5;28;01mNone\u001b[39;00m,\n\u001b[1;32m   (...)\u001b[0m\n\u001b[0;32m   1173\u001b[0m         decimal\u001b[38;5;241m=\u001b[39m\u001b[38;5;124m\"\u001b[39m\u001b[38;5;124m.\u001b[39m\u001b[38;5;124m\"\u001b[39m,\n\u001b[0;32m   1174\u001b[0m     )\n\u001b[1;32m-> 1175\u001b[0m     \u001b[38;5;28;01mreturn\u001b[39;00m fmt\u001b[38;5;241m.\u001b[39mDataFrameRenderer(formatter)\u001b[38;5;241m.\u001b[39mto_html(notebook\u001b[38;5;241m=\u001b[39m\u001b[38;5;28;01mTrue\u001b[39;00m)\n\u001b[0;32m   1176\u001b[0m \u001b[38;5;28;01melse\u001b[39;00m:\n\u001b[0;32m   1177\u001b[0m     \u001b[38;5;28;01mreturn\u001b[39;00m \u001b[38;5;28;01mNone\u001b[39;00m\n",
      "File \u001b[1;32m~\\anaconda3\\Lib\\site-packages\\pandas\\io\\formats\\format.py:1074\u001b[0m, in \u001b[0;36mDataFrameRenderer.to_html\u001b[1;34m(self, buf, encoding, classes, notebook, border, table_id, render_links)\u001b[0m\n\u001b[0;32m   1065\u001b[0m Klass \u001b[38;5;241m=\u001b[39m NotebookFormatter \u001b[38;5;28;01mif\u001b[39;00m notebook \u001b[38;5;28;01melse\u001b[39;00m HTMLFormatter\n\u001b[0;32m   1067\u001b[0m html_formatter \u001b[38;5;241m=\u001b[39m Klass(\n\u001b[0;32m   1068\u001b[0m     \u001b[38;5;28mself\u001b[39m\u001b[38;5;241m.\u001b[39mfmt,\n\u001b[0;32m   1069\u001b[0m     classes\u001b[38;5;241m=\u001b[39mclasses,\n\u001b[1;32m   (...)\u001b[0m\n\u001b[0;32m   1072\u001b[0m     render_links\u001b[38;5;241m=\u001b[39mrender_links,\n\u001b[0;32m   1073\u001b[0m )\n\u001b[1;32m-> 1074\u001b[0m string \u001b[38;5;241m=\u001b[39m html_formatter\u001b[38;5;241m.\u001b[39mto_string()\n\u001b[0;32m   1075\u001b[0m \u001b[38;5;28;01mreturn\u001b[39;00m save_to_buffer(string, buf\u001b[38;5;241m=\u001b[39mbuf, encoding\u001b[38;5;241m=\u001b[39mencoding)\n",
      "File \u001b[1;32m~\\anaconda3\\Lib\\site-packages\\pandas\\io\\formats\\html.py:88\u001b[0m, in \u001b[0;36mHTMLFormatter.to_string\u001b[1;34m(self)\u001b[0m\n\u001b[0;32m     87\u001b[0m \u001b[38;5;28;01mdef\u001b[39;00m \u001b[38;5;21mto_string\u001b[39m(\u001b[38;5;28mself\u001b[39m) \u001b[38;5;241m-\u001b[39m\u001b[38;5;241m>\u001b[39m \u001b[38;5;28mstr\u001b[39m:\n\u001b[1;32m---> 88\u001b[0m     lines \u001b[38;5;241m=\u001b[39m \u001b[38;5;28mself\u001b[39m\u001b[38;5;241m.\u001b[39mrender()\n\u001b[0;32m     89\u001b[0m     \u001b[38;5;28;01mif\u001b[39;00m \u001b[38;5;28many\u001b[39m(\u001b[38;5;28misinstance\u001b[39m(x, \u001b[38;5;28mstr\u001b[39m) \u001b[38;5;28;01mfor\u001b[39;00m x \u001b[38;5;129;01min\u001b[39;00m lines):\n\u001b[0;32m     90\u001b[0m         lines \u001b[38;5;241m=\u001b[39m [\u001b[38;5;28mstr\u001b[39m(x) \u001b[38;5;28;01mfor\u001b[39;00m x \u001b[38;5;129;01min\u001b[39;00m lines]\n",
      "File \u001b[1;32m~\\anaconda3\\Lib\\site-packages\\pandas\\io\\formats\\html.py:642\u001b[0m, in \u001b[0;36mNotebookFormatter.render\u001b[1;34m(self)\u001b[0m\n\u001b[0;32m    640\u001b[0m \u001b[38;5;28mself\u001b[39m\u001b[38;5;241m.\u001b[39mwrite(\u001b[38;5;124m\"\u001b[39m\u001b[38;5;124m<div>\u001b[39m\u001b[38;5;124m\"\u001b[39m)\n\u001b[0;32m    641\u001b[0m \u001b[38;5;28mself\u001b[39m\u001b[38;5;241m.\u001b[39mwrite_style()\n\u001b[1;32m--> 642\u001b[0m \u001b[38;5;28msuper\u001b[39m()\u001b[38;5;241m.\u001b[39mrender()\n\u001b[0;32m    643\u001b[0m \u001b[38;5;28mself\u001b[39m\u001b[38;5;241m.\u001b[39mwrite(\u001b[38;5;124m\"\u001b[39m\u001b[38;5;124m</div>\u001b[39m\u001b[38;5;124m\"\u001b[39m)\n\u001b[0;32m    644\u001b[0m \u001b[38;5;28;01mreturn\u001b[39;00m \u001b[38;5;28mself\u001b[39m\u001b[38;5;241m.\u001b[39melements\n",
      "File \u001b[1;32m~\\anaconda3\\Lib\\site-packages\\pandas\\io\\formats\\html.py:94\u001b[0m, in \u001b[0;36mHTMLFormatter.render\u001b[1;34m(self)\u001b[0m\n\u001b[0;32m     93\u001b[0m \u001b[38;5;28;01mdef\u001b[39;00m \u001b[38;5;21mrender\u001b[39m(\u001b[38;5;28mself\u001b[39m) \u001b[38;5;241m-\u001b[39m\u001b[38;5;241m>\u001b[39m \u001b[38;5;28mlist\u001b[39m[\u001b[38;5;28mstr\u001b[39m]:\n\u001b[1;32m---> 94\u001b[0m     \u001b[38;5;28mself\u001b[39m\u001b[38;5;241m.\u001b[39m_write_table()\n\u001b[0;32m     96\u001b[0m     \u001b[38;5;28;01mif\u001b[39;00m \u001b[38;5;28mself\u001b[39m\u001b[38;5;241m.\u001b[39mshould_show_dimensions:\n\u001b[0;32m     97\u001b[0m         by \u001b[38;5;241m=\u001b[39m \u001b[38;5;28mchr\u001b[39m(\u001b[38;5;241m215\u001b[39m)  \u001b[38;5;66;03m# ×  # noqa: RUF003\u001b[39;00m\n",
      "File \u001b[1;32m~\\anaconda3\\Lib\\site-packages\\pandas\\io\\formats\\html.py:269\u001b[0m, in \u001b[0;36mHTMLFormatter._write_table\u001b[1;34m(self, indent)\u001b[0m\n\u001b[0;32m    266\u001b[0m \u001b[38;5;28;01mif\u001b[39;00m \u001b[38;5;28mself\u001b[39m\u001b[38;5;241m.\u001b[39mfmt\u001b[38;5;241m.\u001b[39mheader \u001b[38;5;129;01mor\u001b[39;00m \u001b[38;5;28mself\u001b[39m\u001b[38;5;241m.\u001b[39mshow_row_idx_names:\n\u001b[0;32m    267\u001b[0m     \u001b[38;5;28mself\u001b[39m\u001b[38;5;241m.\u001b[39m_write_header(indent \u001b[38;5;241m+\u001b[39m \u001b[38;5;28mself\u001b[39m\u001b[38;5;241m.\u001b[39mindent_delta)\n\u001b[1;32m--> 269\u001b[0m \u001b[38;5;28mself\u001b[39m\u001b[38;5;241m.\u001b[39m_write_body(indent \u001b[38;5;241m+\u001b[39m \u001b[38;5;28mself\u001b[39m\u001b[38;5;241m.\u001b[39mindent_delta)\n\u001b[0;32m    271\u001b[0m \u001b[38;5;28mself\u001b[39m\u001b[38;5;241m.\u001b[39mwrite(\u001b[38;5;124m\"\u001b[39m\u001b[38;5;124m</table>\u001b[39m\u001b[38;5;124m\"\u001b[39m, indent)\n",
      "File \u001b[1;32m~\\anaconda3\\Lib\\site-packages\\pandas\\io\\formats\\html.py:417\u001b[0m, in \u001b[0;36mHTMLFormatter._write_body\u001b[1;34m(self, indent)\u001b[0m\n\u001b[0;32m    415\u001b[0m \u001b[38;5;28;01mdef\u001b[39;00m \u001b[38;5;21m_write_body\u001b[39m(\u001b[38;5;28mself\u001b[39m, indent: \u001b[38;5;28mint\u001b[39m) \u001b[38;5;241m-\u001b[39m\u001b[38;5;241m>\u001b[39m \u001b[38;5;28;01mNone\u001b[39;00m:\n\u001b[0;32m    416\u001b[0m     \u001b[38;5;28mself\u001b[39m\u001b[38;5;241m.\u001b[39mwrite(\u001b[38;5;124m\"\u001b[39m\u001b[38;5;124m<tbody>\u001b[39m\u001b[38;5;124m\"\u001b[39m, indent)\n\u001b[1;32m--> 417\u001b[0m     fmt_values \u001b[38;5;241m=\u001b[39m \u001b[38;5;28mself\u001b[39m\u001b[38;5;241m.\u001b[39m_get_formatted_values()\n\u001b[0;32m    419\u001b[0m     \u001b[38;5;66;03m# write values\u001b[39;00m\n\u001b[0;32m    420\u001b[0m     \u001b[38;5;28;01mif\u001b[39;00m \u001b[38;5;28mself\u001b[39m\u001b[38;5;241m.\u001b[39mfmt\u001b[38;5;241m.\u001b[39mindex \u001b[38;5;129;01mand\u001b[39;00m \u001b[38;5;28misinstance\u001b[39m(\u001b[38;5;28mself\u001b[39m\u001b[38;5;241m.\u001b[39mframe\u001b[38;5;241m.\u001b[39mindex, MultiIndex):\n",
      "File \u001b[1;32m~\\anaconda3\\Lib\\site-packages\\pandas\\io\\formats\\html.py:606\u001b[0m, in \u001b[0;36mNotebookFormatter._get_formatted_values\u001b[1;34m(self)\u001b[0m\n\u001b[0;32m    605\u001b[0m \u001b[38;5;28;01mdef\u001b[39;00m \u001b[38;5;21m_get_formatted_values\u001b[39m(\u001b[38;5;28mself\u001b[39m) \u001b[38;5;241m-\u001b[39m\u001b[38;5;241m>\u001b[39m \u001b[38;5;28mdict\u001b[39m[\u001b[38;5;28mint\u001b[39m, \u001b[38;5;28mlist\u001b[39m[\u001b[38;5;28mstr\u001b[39m]]:\n\u001b[1;32m--> 606\u001b[0m     \u001b[38;5;28;01mreturn\u001b[39;00m {i: \u001b[38;5;28mself\u001b[39m\u001b[38;5;241m.\u001b[39mfmt\u001b[38;5;241m.\u001b[39mformat_col(i) \u001b[38;5;28;01mfor\u001b[39;00m i \u001b[38;5;129;01min\u001b[39;00m \u001b[38;5;28mrange\u001b[39m(\u001b[38;5;28mself\u001b[39m\u001b[38;5;241m.\u001b[39mncols)}\n",
      "File \u001b[1;32m~\\anaconda3\\Lib\\site-packages\\pandas\\io\\formats\\html.py:606\u001b[0m, in \u001b[0;36m<dictcomp>\u001b[1;34m(.0)\u001b[0m\n\u001b[0;32m    605\u001b[0m \u001b[38;5;28;01mdef\u001b[39;00m \u001b[38;5;21m_get_formatted_values\u001b[39m(\u001b[38;5;28mself\u001b[39m) \u001b[38;5;241m-\u001b[39m\u001b[38;5;241m>\u001b[39m \u001b[38;5;28mdict\u001b[39m[\u001b[38;5;28mint\u001b[39m, \u001b[38;5;28mlist\u001b[39m[\u001b[38;5;28mstr\u001b[39m]]:\n\u001b[1;32m--> 606\u001b[0m     \u001b[38;5;28;01mreturn\u001b[39;00m {i: \u001b[38;5;28mself\u001b[39m\u001b[38;5;241m.\u001b[39mfmt\u001b[38;5;241m.\u001b[39mformat_col(i) \u001b[38;5;28;01mfor\u001b[39;00m i \u001b[38;5;129;01min\u001b[39;00m \u001b[38;5;28mrange\u001b[39m(\u001b[38;5;28mself\u001b[39m\u001b[38;5;241m.\u001b[39mncols)}\n",
      "File \u001b[1;32m~\\anaconda3\\Lib\\site-packages\\pandas\\io\\formats\\format.py:892\u001b[0m, in \u001b[0;36mDataFrameFormatter.format_col\u001b[1;34m(self, i)\u001b[0m\n\u001b[0;32m    890\u001b[0m \u001b[38;5;28;01mdef\u001b[39;00m \u001b[38;5;21mformat_col\u001b[39m(\u001b[38;5;28mself\u001b[39m, i: \u001b[38;5;28mint\u001b[39m) \u001b[38;5;241m-\u001b[39m\u001b[38;5;241m>\u001b[39m \u001b[38;5;28mlist\u001b[39m[\u001b[38;5;28mstr\u001b[39m]:\n\u001b[0;32m    891\u001b[0m     frame \u001b[38;5;241m=\u001b[39m \u001b[38;5;28mself\u001b[39m\u001b[38;5;241m.\u001b[39mtr_frame\n\u001b[1;32m--> 892\u001b[0m     formatter \u001b[38;5;241m=\u001b[39m \u001b[38;5;28mself\u001b[39m\u001b[38;5;241m.\u001b[39m_get_formatter(i)\n\u001b[0;32m    893\u001b[0m     \u001b[38;5;28;01mreturn\u001b[39;00m format_array(\n\u001b[0;32m    894\u001b[0m         frame\u001b[38;5;241m.\u001b[39miloc[:, i]\u001b[38;5;241m.\u001b[39m_values,\n\u001b[0;32m    895\u001b[0m         formatter,\n\u001b[1;32m   (...)\u001b[0m\n\u001b[0;32m    900\u001b[0m         leading_space\u001b[38;5;241m=\u001b[39m\u001b[38;5;28mself\u001b[39m\u001b[38;5;241m.\u001b[39mindex,\n\u001b[0;32m    901\u001b[0m     )\n",
      "File \u001b[1;32m~\\anaconda3\\Lib\\site-packages\\pandas\\io\\formats\\format.py:913\u001b[0m, in \u001b[0;36mDataFrameFormatter._get_formatter\u001b[1;34m(self, i)\u001b[0m\n\u001b[0;32m    911\u001b[0m \u001b[38;5;28;01mif\u001b[39;00m is_integer(i) \u001b[38;5;129;01mand\u001b[39;00m i \u001b[38;5;129;01mnot\u001b[39;00m \u001b[38;5;129;01min\u001b[39;00m \u001b[38;5;28mself\u001b[39m\u001b[38;5;241m.\u001b[39mcolumns:\n\u001b[0;32m    912\u001b[0m     i \u001b[38;5;241m=\u001b[39m \u001b[38;5;28mself\u001b[39m\u001b[38;5;241m.\u001b[39mcolumns[i]\n\u001b[1;32m--> 913\u001b[0m \u001b[38;5;28;01mreturn\u001b[39;00m \u001b[38;5;28mself\u001b[39m\u001b[38;5;241m.\u001b[39mformatters\u001b[38;5;241m.\u001b[39mget(i, \u001b[38;5;28;01mNone\u001b[39;00m)\n",
      "\u001b[1;31mTypeError\u001b[0m: unhashable type: 'dict'"
     ]
    },
    {
     "data": {
      "text/plain": [
       "Empty DataFrame\n",
       "Columns: [{'Name': [], 'Born-Dead': [], 'Term of Office': [], 'Remarks': []}]\n",
       "Index: []"
      ]
     },
     "execution_count": 7,
     "metadata": {},
     "output_type": "execute_result"
    }
   ],
   "source": [
    "df = pd.DataFrame(data, columns=[{'Name':name, 'Born-Dead':born_dead, 'Term of Office':term_of_office, 'Remarks':remarks}])\n",
    "df"
   ]
  },
  {
   "cell_type": "code",
   "execution_count": 16,
   "id": "e6b0228e-e2a7-4791-915b-93f5b66f0af8",
   "metadata": {},
   "outputs": [],
   "source": [
    "driver.get(\"https://www.motor1.com/\")"
   ]
  },
  {
   "cell_type": "code",
   "execution_count": 18,
   "id": "17e88d82-4eda-451c-8bf6-c89fc0f51194",
   "metadata": {},
   "outputs": [],
   "source": [
    "designation = driver.find_element(By.XPATH ,\"/html/body/div[9]/div[2]/div/div/div[3]/div/div/div/form/input\")\n",
    "designation.send_keys('50 most expensive cars')"
   ]
  },
  {
   "cell_type": "code",
   "execution_count": 19,
   "id": "61d158fd-2d9e-42ca-86ce-bf0df00bf997",
   "metadata": {},
   "outputs": [],
   "source": [
    "search = driver.find_element(By.XPATH , \"/html/body/div[9]/div[2]/div/div/div[3]/div/div/div/form/button[1]\")\n",
    "search.click()\n"
   ]
  },
  {
   "cell_type": "code",
   "execution_count": 20,
   "id": "947ad7c6-d085-4458-91cf-799dc761f1ce",
   "metadata": {},
   "outputs": [],
   "source": [
    "search = driver.find_element(By.XPATH , \"/html/body/div[9]/div[6]/form/input[2]\")\n",
    "search.click()\n"
   ]
  },
  {
   "cell_type": "code",
   "execution_count": 22,
   "id": "c8032528-ef38-40cb-bde0-ae0728c22c00",
   "metadata": {},
   "outputs": [
    {
     "name": "stdout",
     "output_type": "stream",
     "text": [
      "Empty DataFrame\n",
      "Columns: [Car Name, Price]\n",
      "Index: []\n"
     ]
    }
   ],
   "source": [
    "car_names = driver.find_elements(By.XPATH , '//div[@class=\"article-content\"]/h3')\n",
    "car_prices = driver.find_elements(By.XPATH , '/div[@class=\"article-content\"]/p')\n",
    "\n",
    "data = []\n",
    "for name, price in zip(car_names, car_prices):\n",
    "  data.append([name.text, price.text])\n",
    "\n",
    "df = pd.DataFrame(data, columns=['Car Name', 'Price'])\n",
    "print(df)\n"
   ]
  },
  {
   "cell_type": "code",
   "execution_count": null,
   "id": "817ed365-33fa-41bb-84b7-bc545945805f",
   "metadata": {},
   "outputs": [],
   "source": []
  }
 ],
 "metadata": {
  "kernelspec": {
   "display_name": "Python 3 (ipykernel)",
   "language": "python",
   "name": "python3"
  },
  "language_info": {
   "codemirror_mode": {
    "name": "ipython",
    "version": 3
   },
   "file_extension": ".py",
   "mimetype": "text/x-python",
   "name": "python",
   "nbconvert_exporter": "python",
   "pygments_lexer": "ipython3",
   "version": "3.11.7"
  }
 },
 "nbformat": 4,
 "nbformat_minor": 5
}
